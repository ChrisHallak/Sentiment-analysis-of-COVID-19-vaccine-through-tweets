{
  "cells": [
    {
      "cell_type": "markdown",
      "metadata": {
        "id": "view-in-github",
        "colab_type": "text"
      },
      "source": [
        "<a href=\"https://colab.research.google.com/github/ChrisHallak/Sentiment-analysis-of-COVID-19-vaccine-through-tweets/blob/main/Comparing_ML_with_DL_for_COVID_19_Vaccine_Syntiment_Analysis.ipynb\" target=\"_parent\"><img src=\"https://colab.research.google.com/assets/colab-badge.svg\" alt=\"Open In Colab\"/></a>"
      ]
    },
    {
      "cell_type": "markdown",
      "id": "e7efe140",
      "metadata": {
        "id": "e7efe140"
      },
      "source": [
        "# Step [1]: Prepare libraries and data"
      ]
    },
    {
      "cell_type": "markdown",
      "id": "8e9b1951",
      "metadata": {
        "id": "8e9b1951"
      },
      "source": [
        "## [1.1] Include important libraries"
      ]
    },
    {
      "cell_type": "code",
      "execution_count": null,
      "id": "af6058ed",
      "metadata": {
        "id": "af6058ed"
      },
      "outputs": [],
      "source": [
        "from sklearn.metrics import classification_report, confusion_matrix\n",
        "from sklearn.feature_extraction.text import CountVectorizer\n",
        "from sklearn.feature_extraction.text import TfidfVectorizer\n",
        "from keras.preprocessing.text import Tokenizer\n",
        "from keras.preprocessing.sequence import pad_sequences\n",
        "from sklearn.linear_model import LogisticRegression\n",
        "from sklearn.neighbors import NearestCentroid\n",
        "from sklearn.model_selection import cross_val_score\n",
        "from sklearn.metrics import accuracy_score\n",
        "from keras.models import Sequential\n",
        "from keras import layers\n",
        "from sklearn import svm\n",
        "import matplotlib.pyplot as plt\n",
        "from sklearn import metrics\n",
        "import seaborn as sns\n",
        "import pandas as pd\n",
        "import arabicstopwords.arabicstopwords as stp\n",
        "from nltk.tokenize import word_tokenize\n",
        "from bidi.algorithm import get_display\n",
        "import qalsadi.lemmatizer\n",
        "import unicodedata as ud\n",
        "import arabic_reshaper\n",
        "import string\n",
        "import re\n",
        "import nltk\n",
        "import emoji\n",
        "import numpy as np\n",
        "\n",
        "\n",
        "\n",
        "lemmer = qalsadi.lemmatizer.Lemmatizer()\n",
        "sw = stp.stopwords_list()\n",
        "\n",
        "\n"
      ]
    },
    {
      "cell_type": "markdown",
      "id": "3400638b",
      "metadata": {
        "id": "3400638b"
      },
      "source": [
        "## [1.2] read data from csv file"
      ]
    },
    {
      "cell_type": "code",
      "execution_count": null,
      "id": "d41a9612",
      "metadata": {
        "id": "d41a9612"
      },
      "outputs": [],
      "source": [
        "df_train = pd.read_csv(r'C:\\Users\\user\\Downloads\\CoronaHW\\Data\\train.csv')\n",
        "df_test = pd.read_csv(r'C:\\Users\\user\\Downloads\\CoronaHW\\Data\\test.csv')\n",
        "df_valid = pd.read_csv(r'C:\\Users\\user\\Downloads\\CoronaHW\\Data\\valid.csv')\n",
        "\n",
        "## إزالة التغريدات التي تصنيفها 2و3 والاكتفاء فقط بالتغريدات ذات التصنبيف 1و0\n",
        "df_train = df_train[df_train['label'] <= 1]\n",
        "df_test = df_test[df_test['label'] <= 1]\n",
        "df_valid = df_valid[df_valid['label'] <= 1]\n"
      ]
    },
    {
      "cell_type": "code",
      "execution_count": null,
      "id": "wLx1PvfSz74u",
      "metadata": {
        "colab": {
          "base_uri": "https://localhost:8080/",
          "height": 206
        },
        "id": "wLx1PvfSz74u",
        "outputId": "887b1be1-ea36-4981-b538-f35402d19f1a"
      },
      "outputs": [
        {
          "data": {
            "text/html": [
              "<div>\n",
              "<style scoped>\n",
              "    .dataframe tbody tr th:only-of-type {\n",
              "        vertical-align: middle;\n",
              "    }\n",
              "\n",
              "    .dataframe tbody tr th {\n",
              "        vertical-align: top;\n",
              "    }\n",
              "\n",
              "    .dataframe thead th {\n",
              "        text-align: right;\n",
              "    }\n",
              "</style>\n",
              "<table border=\"1\" class=\"dataframe\">\n",
              "  <thead>\n",
              "    <tr style=\"text-align: right;\">\n",
              "      <th></th>\n",
              "      <th>tweet</th>\n",
              "      <th>label</th>\n",
              "    </tr>\n",
              "  </thead>\n",
              "  <tbody>\n",
              "    <tr>\n",
              "      <th>1</th>\n",
              "      <td>'#خذ_الخطوة_خذ_اللقاح \\nالحمدالله من قبل ومن ب...</td>\n",
              "      <td>1</td>\n",
              "    </tr>\n",
              "    <tr>\n",
              "      <th>2</th>\n",
              "      <td>لو اللي مثلك وشرواك طعمو كان قد حذفنا الكمامات...</td>\n",
              "      <td>1</td>\n",
              "    </tr>\n",
              "    <tr>\n",
              "      <th>3</th>\n",
              "      <td>#الصحة:•نحو 14.5 مليون شخص تم إعطاؤهم جرعة لقا...</td>\n",
              "      <td>1</td>\n",
              "    </tr>\n",
              "    <tr>\n",
              "      <th>8</th>\n",
              "      <td>بوتين يحصل مجددًا على لقاح مضاد لفيروس كورونا ...</td>\n",
              "      <td>1</td>\n",
              "    </tr>\n",
              "    <tr>\n",
              "      <th>9</th>\n",
              "      <td>تسعى شركه مودرنا الأمريكيه لاستصدار ترخيص من ه...</td>\n",
              "      <td>1</td>\n",
              "    </tr>\n",
              "  </tbody>\n",
              "</table>\n",
              "</div>"
            ],
            "text/plain": [
              "                                               tweet  label\n",
              "1  '#خذ_الخطوة_خذ_اللقاح \\nالحمدالله من قبل ومن ب...      1\n",
              "2  لو اللي مثلك وشرواك طعمو كان قد حذفنا الكمامات...      1\n",
              "3  #الصحة:•نحو 14.5 مليون شخص تم إعطاؤهم جرعة لقا...      1\n",
              "8  بوتين يحصل مجددًا على لقاح مضاد لفيروس كورونا ...      1\n",
              "9  تسعى شركه مودرنا الأمريكيه لاستصدار ترخيص من ه...      1"
            ]
          },
          "execution_count": 61,
          "metadata": {},
          "output_type": "execute_result"
        }
      ],
      "source": [
        "df_train.head()"
      ]
    },
    {
      "cell_type": "markdown",
      "id": "86400ad4",
      "metadata": {
        "id": "86400ad4"
      },
      "source": [
        "## [1.3] Prapere The Comparison Dictionary"
      ]
    },
    {
      "cell_type": "code",
      "execution_count": null,
      "id": "50ecc511",
      "metadata": {
        "id": "50ecc511"
      },
      "outputs": [],
      "source": [
        "model_comparison_table = {}\n",
        "\n",
        "model_comparison_table['model_name'] = []\n",
        "model_comparison_table['preprocessing_methods'] = []\n",
        "model_comparison_table['accuracy'] = []"
      ]
    },
    {
      "cell_type": "markdown",
      "id": "VBv0IJj691-R",
      "metadata": {
        "id": "VBv0IJj691-R"
      },
      "source": [
        "## Function to  get ( x_train,y_train,x_test,y_test,x_valid,y_valid) from the dataframes"
      ]
    },
    {
      "cell_type": "code",
      "execution_count": null,
      "id": "a2n1Q4XJ8Ms9",
      "metadata": {
        "id": "a2n1Q4XJ8Ms9"
      },
      "outputs": [],
      "source": [
        "# تابع يرد قيم عمود معين من جدول التدريب والاختبار والتحقق ويحولها إلى ليست\n",
        "def get_values(datafield):\n",
        "    x_train = df_train[datafield].values\n",
        "    y_train = df_train['label'].values\n",
        "    x_test = df_test[datafield].values\n",
        "    y_test = df_test['label'].values\n",
        "    x_valid =df_valid[datafield].values\n",
        "    y_valid = df_valid['label'].values\n",
        "    return x_train,y_train,x_test,y_test,x_valid,y_valid\n",
        "\n"
      ]
    },
    {
      "cell_type": "markdown",
      "id": "0ec796b2",
      "metadata": {
        "id": "0ec796b2"
      },
      "source": [
        "## Function to apply bag of words"
      ]
    },
    {
      "cell_type": "code",
      "execution_count": null,
      "id": "15b492c6",
      "metadata": {
        "id": "15b492c6"
      },
      "outputs": [],
      "source": [
        "def apply_bagOfWords(x_train,x_test,x_valid):\n",
        "    vectorizer = CountVectorizer()\n",
        "\n",
        "    # عملية استخراج المفردات من معطيات التدريب\n",
        "    vectorizer.fit(x_train)\n",
        "\n",
        "    # نقل عملية التعلم إلى معطيات الاختبار والتحقق\n",
        "    X_train = vectorizer.transform(x_train)\n",
        "    X_test = vectorizer.transform(x_test)\n",
        "    X_valid = vectorizer.transform(x_valid)\n",
        "\n",
        "    print(\"shape of X_train : \" , X_train.toarray().shape)\n",
        "    print(\"shape of X_test : \" , X_test.toarray().shape)\n",
        "    print(\"shape of X_valid : \",X_valid.toarray().shape)\n",
        "\n",
        "    return X_train,X_test,X_valid"
      ]
    },
    {
      "cell_type": "markdown",
      "id": "850e5571",
      "metadata": {
        "id": "850e5571"
      },
      "source": [
        "## Function to apply TF-IDF"
      ]
    },
    {
      "cell_type": "code",
      "execution_count": null,
      "id": "486d310a",
      "metadata": {
        "id": "486d310a"
      },
      "outputs": [],
      "source": [
        "def apply_tfidf(x_train,x_test,x_valid,min_df,max_df):\n",
        "    vectorizer = TfidfVectorizer(min_df=min_df, max_df=max_df, ngram_range=(1, 2))\n",
        "    vectorizer.fit(x_train)\n",
        "    X_train = vectorizer.transform(x_train)\n",
        "    X_test = vectorizer.transform(x_test)\n",
        "    X_valid = vectorizer.transform(x_valid)\n",
        "    print(\"shape of X_train : \" , X_train.toarray().shape)\n",
        "    print(\"shape of X_test : \" , X_test.toarray().shape)\n",
        "    print(\"shape of X_valid : \",X_valid.toarray().shape)\n",
        "    return X_train,X_test,X_valid\n"
      ]
    },
    {
      "cell_type": "markdown",
      "id": "72a1d5d8",
      "metadata": {
        "id": "72a1d5d8"
      },
      "source": [
        "## Function to apply TF-IDF 3-Grams"
      ]
    },
    {
      "cell_type": "code",
      "execution_count": null,
      "id": "95236a39",
      "metadata": {
        "id": "95236a39"
      },
      "outputs": [],
      "source": [
        "def apply_tfidf_3grams(x_train,x_test,x_valid,min_df,max_df):\n",
        "    vectorizer = TfidfVectorizer(min_df=min_df, max_df=max_df, ngram_range=(1, 3))\n",
        "    vectorizer.fit(x_train)\n",
        "    X_train = vectorizer.transform(x_train)\n",
        "    X_test = vectorizer.transform(x_test)\n",
        "    X_valid = vectorizer.transform(x_valid)\n",
        "    print(\"shape of X_train : \" , X_train.toarray().shape)\n",
        "    print(\"shape of X_test : \" , X_test.toarray().shape)\n",
        "    print(\"shape of X_valid : \",X_valid.toarray().shape)\n",
        "    return X_train,X_test,X_valid"
      ]
    },
    {
      "cell_type": "markdown",
      "id": "7b0507dc",
      "metadata": {
        "id": "7b0507dc"
      },
      "source": [
        "## Function to apply word embedding"
      ]
    },
    {
      "cell_type": "code",
      "execution_count": null,
      "id": "2c9b3e1e",
      "metadata": {
        "id": "2c9b3e1e"
      },
      "outputs": [],
      "source": [
        "def apply_wordEmbedding(x_train,x_test,x_valid):\n",
        "\n",
        "    tokenizer = Tokenizer(num_words=5000)\n",
        "    tokenizer.fit_on_texts(x_train)\n",
        "\n",
        "    X_train = tokenizer.texts_to_sequences(x_train)\n",
        "    X_test = tokenizer.texts_to_sequences(x_test)\n",
        "    X_valid  = tokenizer.texts_to_sequences(x_valid)\n",
        "\n",
        "    vocab_size = len(tokenizer.word_index) + 1  # Adding 1 because of reserved 0 index\n",
        "    return X_train,X_test,x_valid,vocab_size\n"
      ]
    },
    {
      "cell_type": "markdown",
      "id": "6b3e24ed",
      "metadata": {
        "id": "6b3e24ed"
      },
      "source": [
        "## Function to train logistic regression model"
      ]
    },
    {
      "cell_type": "code",
      "execution_count": null,
      "id": "629bad3e",
      "metadata": {
        "id": "629bad3e"
      },
      "outputs": [],
      "source": [
        "def build_logistic(X_train,y_train,X_test,y_test):\n",
        "    model = LogisticRegression(max_iter = 200)\n",
        "    model.fit(X_train, y_train)\n",
        "    y_predicted = model.predict(X_test)\n",
        "    score = accuracy_score(y_test, y_predicted)\n",
        "    return y_predicted,score\n",
        ""
      ]
    },
    {
      "cell_type": "markdown",
      "id": "d9e4ddbb",
      "metadata": {
        "id": "d9e4ddbb"
      },
      "source": [
        "## Function to train SVM model"
      ]
    },
    {
      "cell_type": "code",
      "execution_count": null,
      "id": "6df2b2f8",
      "metadata": {
        "id": "6df2b2f8"
      },
      "outputs": [],
      "source": [
        "def build_SVM(X_train,y_train,X_test,y_test):\n",
        "    model = svm.SVC(kernel=\"linear\")\n",
        "    model.fit(X_train,y_train)\n",
        "    y_predicted = model.predict(X_test)\n",
        "    score = accuracy_score(y_test, y_predicted)\n",
        "    return y_predicted,score"
      ]
    },
    {
      "cell_type": "markdown",
      "id": "39f3bf07",
      "metadata": {
        "id": "39f3bf07"
      },
      "source": [
        "## Function to train Nearest Neighbors model"
      ]
    },
    {
      "cell_type": "code",
      "execution_count": null,
      "id": "d443649f",
      "metadata": {
        "id": "d443649f"
      },
      "outputs": [],
      "source": [
        "def build_nearestNeighbors(X_train,y_train,X_test,y_test):\n",
        "    model = NearestCentroid()\n",
        "    model.fit(X_train, y_train)\n",
        "    y_predicted = model.predict(X_test)\n",
        "    score = accuracy_score(y_test, y_predicted)\n",
        "    return y_predicted,score\n",
        "\n",
        ""
      ]
    },
    {
      "cell_type": "markdown",
      "id": "e095ec41",
      "metadata": {
        "id": "e095ec41"
      },
      "source": [
        "## Function to plot history"
      ]
    },
    {
      "cell_type": "code",
      "execution_count": null,
      "id": "8c77c828",
      "metadata": {
        "id": "8c77c828"
      },
      "outputs": [],
      "source": [
        "import matplotlib.pyplot as plt\n",
        "plt.style.use('ggplot')\n",
        "\n",
        "def plot_history(history):\n",
        "    acc = history.history['accuracy']\n",
        "    val_acc = history.history['val_accuracy']\n",
        "    loss = history.history['loss']\n",
        "    val_loss = history.history['val_loss']\n",
        "    x = range(1, len(acc) + 1)\n",
        "\n",
        "    plt.figure(figsize=(12, 5))\n",
        "    plt.subplot(1, 2, 1)\n",
        "    plt.plot(x, acc, 'b', label='Training acc')\n",
        "    plt.plot(x, val_acc, 'r', label='Validation acc')\n",
        "    plt.title('Training and validation accuracy')\n",
        "    plt.legend()\n",
        "    plt.subplot(1, 2, 2)\n",
        "    plt.plot(x, loss, 'b', label='Training loss')\n",
        "    plt.plot(x, val_loss, 'r', label='Validation loss')\n",
        "    plt.title('Training and validation loss')\n",
        "    plt.legend()"
      ]
    },
    {
      "cell_type": "markdown",
      "id": "2f22713d",
      "metadata": {
        "id": "2f22713d"
      },
      "source": [
        "# Step [2]: Cleaning and Normalization"
      ]
    },
    {
      "cell_type": "code",
      "execution_count": null,
      "id": "133ecf2d",
      "metadata": {
        "id": "133ecf2d"
      },
      "outputs": [],
      "source": [
        "def remove_mentions(tweet,work = 1):\n",
        "    if work == 1:\n",
        "        tweet = re.sub(r\"@\\S+\", '', tweet)\n",
        "    return tweet\n",
        "#---------------------------------------------\n",
        "\n",
        "def remove_hyperlinks(tweet,work=1):\n",
        "    if work == 1:\n",
        "        tweet = re.sub(r'https?\\S+', '', tweet)\n",
        "    return tweet\n",
        "#---------------------------------------------\n",
        "\n",
        "def remove_non_arabic_characters(tweet,work=1):\n",
        "    if work == 1:\n",
        "        tweet = re.sub(r\"[^\\u0600-\\u06FF]+\", \" \",tweet);\n",
        "    return tweet\n",
        "#---------------------------------------------\n",
        "\n",
        "def remove_extraLetters(tweet,work =1):\n",
        "    if work == 1:\n",
        "        tweet = re.sub(r'(.)\\1+', r'\\1', tweet)\n",
        "    return tweet\n",
        "#---------------------------------------------\n",
        "\n",
        "def remove_punctuations(tweet,work = 1):\n",
        "    if work == 1 :\n",
        "        arabic_punctuations = '''`÷×؛<>_()*&^%][ـ،/:\"؟.,'{}~¦+|!”…“–ـ'''\n",
        "        english_punctuations = string.punctuation\n",
        "        punctuations_list = arabic_punctuations + english_punctuations\n",
        "        translator = str.maketrans(' ', ' ', punctuations_list)\n",
        "        return tweet.translate(translator)\n",
        "    else :\n",
        "        return tweet\n",
        "#---------------------------------------------\n",
        "\n",
        "def remove_stopwords(tweet,work = 1):\n",
        "    if work == 1:\n",
        "        tokens = tweet.split()\n",
        "        tweet = \" \".join([token for token in  tokens if token not in sw])\n",
        "    return tweet\n",
        "#---------------------------------------------\n",
        "\n",
        "def normalize_arabic(tweet,work = 1):\n",
        "    if work == 1:\n",
        "        tweet = re.sub(\"[إأآا]\", \"ا\", tweet)\n",
        "        tweet = re.sub(\"ى\", \"ي\", tweet)\n",
        "        tweet = re.sub(\"ؤ\", \"ء\", tweet)\n",
        "        tweet = re.sub(\"ئ\", \"ء\", tweet)\n",
        "        tweet = re.sub(\"ة\", \"ه\", tweet)\n",
        "        tweet = re.sub(\"گ\", \"ك\", tweet)\n",
        "        return tweet\n",
        "    else :\n",
        "        return tweet\n",
        "#---------------------------------------------\n",
        "\n",
        "def lemmatization(tweet ,work = 1):\n",
        "    if work == 1:\n",
        "        lemmas = lemmer.lemmatize_text(tweet)\n",
        "        return \" \".join(lemmas)\n",
        "    else :\n",
        "        return tweet"
      ]
    },
    {
      "cell_type": "code",
      "execution_count": null,
      "id": "91ab86f0",
      "metadata": {
        "id": "91ab86f0"
      },
      "outputs": [],
      "source": [
        "# flag 0 removing mentions\n",
        "# flag 1 removing hyperlinks\n",
        "# flag 2 removing non_arabic_chars\n",
        "# flag 3 remove extra letters\n",
        "# flag 4 remove puncs\n",
        "# flag 5 remove stopwords\n",
        "# flag 6 normalization\n",
        "# flag 7 lemmatization\n",
        "\n",
        "def preprocess(tweet,flags):\n",
        "    tweet = remove_mentions(tweet,flags[0])\n",
        "    tweet = remove_hyperlinks(tweet,flags[1])\n",
        "    tweet = remove_non_arabic_characters(tweet,flags[2])\n",
        "    tweet = remove_extraLetters(tweet,flags[3])\n",
        "    tweet = remove_punctuations(tweet,flags[4])\n",
        "    tweet = remove_stopwords(tweet,flags[5])\n",
        "    tweet = normalize_arabic(tweet,flags[6])\n",
        "    tweet = lemmatization(tweet,flags[7])\n",
        "    return tweet"
      ]
    },
    {
      "cell_type": "code",
      "execution_count": null,
      "id": "0fcbd928",
      "metadata": {
        "id": "0fcbd928"
      },
      "outputs": [],
      "source": []
    },
    {
      "cell_type": "markdown",
      "id": "86381460",
      "metadata": {
        "id": "86381460"
      },
      "source": [
        "# Functions to evaluate Classification Models"
      ]
    },
    {
      "cell_type": "markdown",
      "id": "3b50c1a9",
      "metadata": {
        "id": "3b50c1a9"
      },
      "source": [
        "### function to plot confusion matrix"
      ]
    },
    {
      "cell_type": "code",
      "execution_count": null,
      "id": "e645e6ce",
      "metadata": {
        "id": "e645e6ce"
      },
      "outputs": [],
      "source": [
        "def plot_confusion_matrix(y_test,y_predicted,score):\n",
        "    cm = metrics.confusion_matrix(y_test, y_predicted)\n",
        "    plt.figure(figsize=(4,4))\n",
        "    sns.heatmap(cm, annot=True, fmt=\".3f\", linewidths=.5, square = True, cmap = 'BuPu');\n",
        "    plt.ylabel('Actual label');\n",
        "    plt.xlabel('Predicted label');\n",
        "    all_sample_title = 'Accuracy Score: {0}'.format(score)\n",
        "    plt.title(all_sample_title, size = 13);"
      ]
    },
    {
      "cell_type": "markdown",
      "id": "d8d019bd",
      "metadata": {
        "id": "d8d019bd"
      },
      "source": [
        "###  function to print classification model report"
      ]
    },
    {
      "cell_type": "code",
      "execution_count": null,
      "id": "66130f76",
      "metadata": {
        "id": "66130f76"
      },
      "outputs": [],
      "source": [
        "def print_model_report(y_test,y_predicated):\n",
        "    print(\"_____________________________________________________\")\n",
        "    print(classification_report(y_test, y_predicted))\n",
        "    print(\"_____________________________________________________\")\n"
      ]
    },
    {
      "cell_type": "markdown",
      "id": "7e696969",
      "metadata": {
        "id": "7e696969"
      },
      "source": [
        "# Step [2]: Build Baseline"
      ]
    },
    {
      "cell_type": "markdown",
      "id": "03ef90d1",
      "metadata": {
        "id": "03ef90d1"
      },
      "source": [
        "## [2.1] Extract Bag of Words Features"
      ]
    },
    {
      "cell_type": "code",
      "execution_count": null,
      "id": "c1b8c64b",
      "metadata": {
        "colab": {
          "base_uri": "https://localhost:8080/"
        },
        "id": "c1b8c64b",
        "outputId": "13a26519-84a9-459a-bae7-22e07eb17388"
      },
      "outputs": [
        {
          "name": "stdout",
          "output_type": "stream",
          "text": [
            "shape of X_train :  (8117, 42641)\n",
            "shape of X_test :  (2717, 42641)\n",
            "shape of X_valid :  (2688, 42641)\n"
          ]
        }
      ],
      "source": [
        "\n",
        "x_train,y_train,x_test,y_test,x_valid,y_valid = get_values('tweet')\n",
        "X_train,X_test,X_valid = apply_bagOfWords(x_train,x_test,x_valid)\n"
      ]
    },
    {
      "cell_type": "markdown",
      "id": "24164796",
      "metadata": {
        "id": "24164796"
      },
      "source": [
        "## [2.2] Train model"
      ]
    },
    {
      "cell_type": "code",
      "execution_count": null,
      "id": "04e373c4",
      "metadata": {
        "colab": {
          "base_uri": "https://localhost:8080/"
        },
        "id": "04e373c4",
        "outputId": "f06864a6-467d-4ef4-cb24-cad6e91142f5"
      },
      "outputs": [
        {
          "name": "stdout",
          "output_type": "stream",
          "text": [
            "BaseLine Model Accuracy :  0.7765918292234082\n"
          ]
        }
      ],
      "source": [
        "y_predicted , basemodelACC = build_logistic(X_train,y_train,X_test,y_test)\n",
        "\n",
        "print(\"BaseLine Model Accuracy : \",basemodelACC)"
      ]
    },
    {
      "cell_type": "markdown",
      "id": "a286e05a",
      "metadata": {
        "id": "a286e05a"
      },
      "source": [
        "## [2.3] Evaluation"
      ]
    },
    {
      "cell_type": "markdown",
      "id": "75ff3a8a",
      "metadata": {
        "id": "75ff3a8a"
      },
      "source": [
        "### [2.3.1] Confusion Matrix"
      ]
    },
    {
      "cell_type": "code",
      "execution_count": null,
      "id": "7e011a54",
      "metadata": {
        "id": "7e011a54",
        "outputId": "20c1a96a-9e9d-4a91-91f9-95f045521db8"
      },
      "outputs": [
        {
          "data": {
            "image/png": "[encoded data removed]",
            "text/plain": [
              "<Figure size 288x288 with 2 Axes>"
            ]
          },
          "metadata": {},
          "output_type": "display_data"
        }
      ],
      "source": [
        "plot_confusion_matrix(y_test,y_predicted,basemodelACC)"
      ]
    },
    {
      "cell_type": "markdown",
      "id": "e5bb923c",
      "metadata": {
        "id": "e5bb923c"
      },
      "source": [
        "### [2.3.2] Classification Report"
      ]
    },
    {
      "cell_type": "code",
      "execution_count": null,
      "id": "ca0fcfd2",
      "metadata": {
        "id": "ca0fcfd2",
        "outputId": "58bce20e-063f-408a-e2cc-9d017d059c1e"
      },
      "outputs": [
        {
          "name": "stdout",
          "output_type": "stream",
          "text": [
            "_____________________________________________________\n",
            "              precision    recall  f1-score   support\n",
            "\n",
            "           0       0.69      0.61      0.64       906\n",
            "           1       0.81      0.86      0.84      1811\n",
            "\n",
            "    accuracy                           0.78      2717\n",
            "   macro avg       0.75      0.73      0.74      2717\n",
            "weighted avg       0.77      0.78      0.77      2717\n",
            "\n",
            "_____________________________________________________\n"
          ]
        }
      ],
      "source": [
        "print_model_report(y_test,y_predicted)"
      ]
    },
    {
      "cell_type": "code",
      "execution_count": null,
      "id": "42b0c136",
      "metadata": {
        "id": "42b0c136"
      },
      "outputs": [],
      "source": [
        "model_comparison_table['model_name'].append(\"logistic regression with bag of words\")\n",
        "model_comparison_table['preprocessing_methods'].append(\"none\")\n",
        "model_comparison_table['accuracy'].append(basemodelACC)"
      ]
    },
    {
      "cell_type": "markdown",
      "id": "f9e52feb",
      "metadata": {
        "id": "f9e52feb"
      },
      "source": [
        "# Step [3]: Build model with preprocessing methods"
      ]
    },
    {
      "cell_type": "markdown",
      "id": "07b133bd",
      "metadata": {
        "id": "07b133bd"
      },
      "source": [
        "## Step [3.1]: Build model after removing mentions"
      ]
    },
    {
      "cell_type": "code",
      "execution_count": null,
      "id": "d605c22a",
      "metadata": {
        "id": "d605c22a"
      },
      "outputs": [],
      "source": [
        "df_train['without_mentions'] = df_train['tweet'].apply(lambda x : preprocess(x,[1,0,0,0,0,0,0,0]))\n",
        "df_test['without_mentions'] = df_test['tweet'].apply(lambda x : preprocess(x,[1,0,0,0,0,0,0,0]))\n",
        "df_valid['without_mentions'] = df_valid['tweet'].apply(lambda x : preprocess(x,[1,0,0,0,0,0,0,0]))"
      ]
    },
    {
      "cell_type": "markdown",
      "id": "6cc20443",
      "metadata": {
        "id": "6cc20443"
      },
      "source": [
        "### Step [3.1.1]: Extract Bag of words features"
      ]
    },
    {
      "cell_type": "code",
      "execution_count": null,
      "id": "a8369708",
      "metadata": {
        "id": "a8369708",
        "outputId": "3a39ba48-0063-403b-a11c-14c7a409a970"
      },
      "outputs": [
        {
          "name": "stdout",
          "output_type": "stream",
          "text": [
            "shape of X_train :  (8117, 39727)\n",
            "shape of X_test :  (2717, 39727)\n",
            "shape of X_valid :  (2688, 39727)\n"
          ]
        }
      ],
      "source": [
        "x_train,y_train,x_test,y_test,x_valid,y_valid = get_values('without_mentions')\n",
        "X_train,X_test,X_valid = apply_bagOfWords(x_train,x_test,x_valid)\n"
      ]
    },
    {
      "cell_type": "markdown",
      "id": "563bdac7",
      "metadata": {
        "id": "563bdac7"
      },
      "source": [
        "### Step [3.1.2]: Train model"
      ]
    },
    {
      "cell_type": "code",
      "execution_count": null,
      "id": "c1e8edce",
      "metadata": {
        "id": "c1e8edce",
        "outputId": "63d6af9c-096f-4cc4-cb07-0512c92d51df"
      },
      "outputs": [
        {
          "name": "stdout",
          "output_type": "stream",
          "text": [
            "Model Accuracy after removing mentions:  0.770702981229297\n"
          ]
        }
      ],
      "source": [
        "y_predicted , withoutmentionsACC = build_logistic(X_train,y_train,X_test,y_test)\n",
        "\n",
        "print(\"Model Accuracy after removing mentions: \",withoutmentionsACC)\n",
        "\n"
      ]
    },
    {
      "cell_type": "markdown",
      "id": "3719952d",
      "metadata": {
        "id": "3719952d"
      },
      "source": [
        "### Step [3.1.3]: Evaluation model"
      ]
    },
    {
      "cell_type": "code",
      "execution_count": null,
      "id": "2d0e0bd3",
      "metadata": {
        "id": "2d0e0bd3",
        "outputId": "703af227-f89c-44eb-f0bc-7922da204e8c"
      },
      "outputs": [
        {
          "name": "stdout",
          "output_type": "stream",
          "text": [
            "_____________________________________________________\n",
            "              precision    recall  f1-score   support\n",
            "\n",
            "           0       0.68      0.60      0.64       906\n",
            "           1       0.81      0.86      0.83      1811\n",
            "\n",
            "    accuracy                           0.77      2717\n",
            "   macro avg       0.74      0.73      0.73      2717\n",
            "weighted avg       0.77      0.77      0.77      2717\n",
            "\n",
            "_____________________________________________________\n"
          ]
        }
      ],
      "source": [
        "print_model_report(y_test,y_predicted)"
      ]
    },
    {
      "cell_type": "code",
      "execution_count": null,
      "id": "00d03133",
      "metadata": {
        "id": "00d03133"
      },
      "outputs": [],
      "source": [
        "model_comparison_table['model_name'].append(\"logistic regression with bag of words\")\n",
        "model_comparison_table['preprocessing_methods'].append(\"removing mentions\")\n",
        "model_comparison_table['accuracy'].append(withoutmentionsACC)"
      ]
    },
    {
      "cell_type": "markdown",
      "id": "a2b8ab92",
      "metadata": {
        "id": "a2b8ab92"
      },
      "source": [
        "## Step [3.2]: Build model after removing urls"
      ]
    },
    {
      "cell_type": "code",
      "execution_count": null,
      "id": "b92cee45",
      "metadata": {
        "id": "b92cee45"
      },
      "outputs": [],
      "source": [
        "df_train['without_urls'] = df_train['tweet'].apply(lambda x : preprocess(x,[0,1,0,0,0,0,0,0]))\n",
        "df_test['without_urls'] = df_test['tweet'].apply(lambda x : preprocess(x,[0,1,0,0,0,0,0,0]))\n",
        "df_valid['without_urls'] = df_valid['tweet'].apply(lambda x : preprocess(x,[0,1,0,0,0,0,0,0]))"
      ]
    },
    {
      "cell_type": "markdown",
      "id": "5233ef45",
      "metadata": {
        "id": "5233ef45"
      },
      "source": [
        "### Step [3.2.1]: Extract Bag of words features"
      ]
    },
    {
      "cell_type": "code",
      "execution_count": null,
      "id": "1b6b65ec",
      "metadata": {
        "id": "1b6b65ec",
        "outputId": "c6950ee9-b5d0-40b2-ddb3-b8a40e497545"
      },
      "outputs": [
        {
          "name": "stdout",
          "output_type": "stream",
          "text": [
            "shape of X_train :  (8117, 38741)\n",
            "shape of X_test :  (2717, 38741)\n",
            "shape of X_valid :  (2688, 38741)\n"
          ]
        }
      ],
      "source": [
        "x_train,y_train,x_test,y_test,x_valid,y_valid = get_values('without_urls')\n",
        "X_train,X_test,X_valid = apply_bagOfWords(x_train,x_test,x_valid)"
      ]
    },
    {
      "cell_type": "markdown",
      "id": "8e7c6319",
      "metadata": {
        "id": "8e7c6319"
      },
      "source": [
        "### Step [3.2.2]: Train model"
      ]
    },
    {
      "cell_type": "code",
      "execution_count": null,
      "id": "c1f423e6",
      "metadata": {
        "id": "c1f423e6",
        "outputId": "addca541-5d4a-4881-d633-42b560f55e56"
      },
      "outputs": [
        {
          "name": "stdout",
          "output_type": "stream",
          "text": [
            "Model Accuracy after removing urls :  0.7769598822230401\n"
          ]
        }
      ],
      "source": [
        "y_predicted , withouturlsACC = build_logistic(X_train,y_train,X_test,y_test)\n",
        "\n",
        "print(\"Model Accuracy after removing urls : \",withouturlsACC)\n"
      ]
    },
    {
      "cell_type": "markdown",
      "id": "48515fcf",
      "metadata": {
        "id": "48515fcf"
      },
      "source": [
        "### Step [3.2.3]: Evaluation model"
      ]
    },
    {
      "cell_type": "code",
      "execution_count": null,
      "id": "0efdebb8",
      "metadata": {
        "id": "0efdebb8",
        "outputId": "867442f9-85e0-4b4a-e69e-b2a380fedd29"
      },
      "outputs": [
        {
          "name": "stdout",
          "output_type": "stream",
          "text": [
            "_____________________________________________________\n",
            "              precision    recall  f1-score   support\n",
            "\n",
            "           0       0.69      0.60      0.64       906\n",
            "           1       0.81      0.87      0.84      1811\n",
            "\n",
            "    accuracy                           0.78      2717\n",
            "   macro avg       0.75      0.73      0.74      2717\n",
            "weighted avg       0.77      0.78      0.77      2717\n",
            "\n",
            "_____________________________________________________\n"
          ]
        }
      ],
      "source": [
        "print_model_report(y_test,y_predicted)"
      ]
    },
    {
      "cell_type": "code",
      "execution_count": null,
      "id": "9e4d5e94",
      "metadata": {
        "id": "9e4d5e94"
      },
      "outputs": [],
      "source": [
        "model_comparison_table['model_name'].append(\"logistic regression with bag of words\")\n",
        "model_comparison_table['preprocessing_methods'].append(\"removing urls\")\n",
        "model_comparison_table['accuracy'].append(withouturlsACC)"
      ]
    },
    {
      "cell_type": "markdown",
      "id": "43c8eca9",
      "metadata": {
        "id": "43c8eca9"
      },
      "source": [
        "## Step [3.3]: Build model after removing non_arabic characters"
      ]
    },
    {
      "cell_type": "code",
      "execution_count": null,
      "id": "54387c76",
      "metadata": {
        "id": "54387c76"
      },
      "outputs": [],
      "source": [
        "df_train['without_nonArabicChars'] = df_train['tweet'].apply(lambda x : preprocess(x,[0,0,1,0,0,0,0,0]))\n",
        "df_test['without_nonArabicChars'] = df_test['tweet'].apply(lambda x : preprocess(x,[0,0,1,0,0,0,0,0]))\n",
        "df_valid['without_nonArabicChars'] = df_valid['tweet'].apply(lambda x : preprocess(x,[0,0,1,0,0,0,0,0]))"
      ]
    },
    {
      "cell_type": "markdown",
      "id": "90a6cfbd",
      "metadata": {
        "id": "90a6cfbd"
      },
      "source": [
        "### Step [3.3.1]: Extract Bag of words features"
      ]
    },
    {
      "cell_type": "code",
      "execution_count": null,
      "id": "4816686c",
      "metadata": {
        "id": "4816686c",
        "outputId": "64ed5a6b-aefd-4daf-89b0-75a3946e0323"
      },
      "outputs": [
        {
          "name": "stdout",
          "output_type": "stream",
          "text": [
            "shape of X_train :  (8117, 33812)\n",
            "shape of X_test :  (2717, 33812)\n",
            "shape of X_valid :  (2688, 33812)\n"
          ]
        }
      ],
      "source": [
        "x_train,y_train,x_test,y_test,x_valid,y_valid = get_values('without_nonArabicChars')\n",
        "X_train,X_test,X_valid = apply_bagOfWords(x_train,x_test,x_valid)"
      ]
    },
    {
      "cell_type": "markdown",
      "id": "44eacd07",
      "metadata": {
        "id": "44eacd07"
      },
      "source": [
        "### Step [3.3.2]: Train model"
      ]
    },
    {
      "cell_type": "code",
      "execution_count": null,
      "id": "2e2acde4",
      "metadata": {
        "id": "2e2acde4",
        "outputId": "abc58e61-df7d-4c1e-a045-1428600ea829"
      },
      "outputs": [
        {
          "name": "stdout",
          "output_type": "stream",
          "text": [
            "Model Accuracy After removing non-arabic characters:  0.7732793522267206\n"
          ]
        }
      ],
      "source": [
        "y_predicted , withoutNonArabicACC = build_logistic(X_train,y_train,X_test,y_test)\n",
        "\n",
        "print(\"Model Accuracy After removing non-arabic characters: \",withoutNonArabicACC)\n"
      ]
    },
    {
      "cell_type": "markdown",
      "id": "bd534487",
      "metadata": {
        "id": "bd534487"
      },
      "source": [
        "### Step [3.3.3]: Evaluation model"
      ]
    },
    {
      "cell_type": "code",
      "execution_count": null,
      "id": "46cd4bf3",
      "metadata": {
        "id": "46cd4bf3",
        "outputId": "5c0d85ba-f8c1-4b4c-a554-116705b7e684"
      },
      "outputs": [
        {
          "name": "stdout",
          "output_type": "stream",
          "text": [
            "_____________________________________________________\n",
            "              precision    recall  f1-score   support\n",
            "\n",
            "           0       0.69      0.59      0.64       906\n",
            "           1       0.81      0.86      0.84      1811\n",
            "\n",
            "    accuracy                           0.77      2717\n",
            "   macro avg       0.75      0.73      0.74      2717\n",
            "weighted avg       0.77      0.77      0.77      2717\n",
            "\n",
            "_____________________________________________________\n"
          ]
        }
      ],
      "source": [
        "print_model_report(y_test,y_predicted)"
      ]
    },
    {
      "cell_type": "code",
      "execution_count": null,
      "id": "f29326c1",
      "metadata": {
        "id": "f29326c1"
      },
      "outputs": [],
      "source": [
        "model_comparison_table['model_name'].append(\"logistic regression with bag of words\")\n",
        "model_comparison_table['preprocessing_methods'].append(\"removing non-arabic characters\")\n",
        "model_comparison_table['accuracy'].append(withoutNonArabicACC)"
      ]
    },
    {
      "cell_type": "markdown",
      "id": "20cd943f",
      "metadata": {
        "id": "20cd943f"
      },
      "source": [
        "## Step [3.4]: Build model after extra characters"
      ]
    },
    {
      "cell_type": "code",
      "execution_count": null,
      "id": "8cf61eae",
      "metadata": {
        "id": "8cf61eae"
      },
      "outputs": [],
      "source": [
        "df_train['without_extra'] = df_train['tweet'].apply(lambda x : preprocess(x,[0,0,0,1,0,0,0,0]))\n",
        "df_test['without_extra'] = df_test['tweet'].apply(lambda x : preprocess(x,[0,0,0,1,0,0,0,0]))\n",
        "df_valid['without_extra'] = df_valid['tweet'].apply(lambda x : preprocess(x,[0,0,0,1,0,0,0,0]))"
      ]
    },
    {
      "cell_type": "markdown",
      "id": "94dd409b",
      "metadata": {
        "id": "94dd409b"
      },
      "source": [
        "### Step [3.4.1]: Extract Bag of words features"
      ]
    },
    {
      "cell_type": "code",
      "execution_count": null,
      "id": "ceef7a59",
      "metadata": {
        "id": "ceef7a59",
        "outputId": "56ec0d93-2f35-44cd-f9e9-5ba329f4f9c6"
      },
      "outputs": [
        {
          "name": "stdout",
          "output_type": "stream",
          "text": [
            "shape of X_train :  (8117, 41689)\n",
            "shape of X_test :  (2717, 41689)\n",
            "shape of X_valid :  (2688, 41689)\n"
          ]
        }
      ],
      "source": [
        "x_train,y_train,x_test,y_test,x_valid,y_valid = get_values('without_extra')\n",
        "X_train,X_test,X_valid = apply_bagOfWords(x_train,x_test,x_valid)"
      ]
    },
    {
      "cell_type": "markdown",
      "id": "3dbc71c0",
      "metadata": {
        "id": "3dbc71c0"
      },
      "source": [
        "### Step [3.4.2]: Train model"
      ]
    },
    {
      "cell_type": "code",
      "execution_count": null,
      "id": "10ace4ff",
      "metadata": {
        "id": "10ace4ff",
        "outputId": "73050ed2-25fe-469d-a39c-b898b090bcb6"
      },
      "outputs": [
        {
          "name": "stdout",
          "output_type": "stream",
          "text": [
            "Model Accuracy After removing extra characters:  0.7795362532204637\n"
          ]
        }
      ],
      "source": [
        "y_predicted , withoutextraACC = build_logistic(X_train,y_train,X_test,y_test)\n",
        "\n",
        "print(\"Model Accuracy After removing extra characters: \",withoutextraACC)\n"
      ]
    },
    {
      "cell_type": "markdown",
      "id": "6d6af95e",
      "metadata": {
        "id": "6d6af95e"
      },
      "source": [
        "### Step [3.2.3]: Evaluation model"
      ]
    },
    {
      "cell_type": "code",
      "execution_count": null,
      "id": "82bc0c1f",
      "metadata": {
        "id": "82bc0c1f",
        "outputId": "86fc9c78-9bb3-47f0-db12-2748a2656063"
      },
      "outputs": [
        {
          "name": "stdout",
          "output_type": "stream",
          "text": [
            "_____________________________________________________\n",
            "              precision    recall  f1-score   support\n",
            "\n",
            "           0       0.69      0.61      0.65       906\n",
            "           1       0.82      0.86      0.84      1811\n",
            "\n",
            "    accuracy                           0.78      2717\n",
            "   macro avg       0.75      0.74      0.74      2717\n",
            "weighted avg       0.77      0.78      0.78      2717\n",
            "\n",
            "_____________________________________________________\n"
          ]
        }
      ],
      "source": [
        "print_model_report(y_test,y_predicted)"
      ]
    },
    {
      "cell_type": "code",
      "execution_count": null,
      "id": "956a7850",
      "metadata": {
        "id": "956a7850"
      },
      "outputs": [],
      "source": [
        "model_comparison_table['model_name'].append(\"logistic regression with bag of words\")\n",
        "model_comparison_table['preprocessing_methods'].append(\"removing extra chars\")\n",
        "model_comparison_table['accuracy'].append(withoutextraACC)"
      ]
    },
    {
      "cell_type": "markdown",
      "id": "5848ca5b",
      "metadata": {
        "id": "5848ca5b"
      },
      "source": [
        "## Step [3.5]: Build model after removing punctuations"
      ]
    },
    {
      "cell_type": "code",
      "execution_count": null,
      "id": "aa4802b4",
      "metadata": {
        "id": "aa4802b4"
      },
      "outputs": [],
      "source": [
        "df_train['without_puncs'] = df_train['tweet'].apply(lambda x : preprocess(x,[0,0,0,0,1,0,0,0]))\n",
        "df_test['without_puncs'] = df_test['tweet'].apply(lambda x : preprocess(x,[0,0,0,0,1,0,0,0]))\n",
        "df_valid['without_puncs'] = df_valid['tweet'].apply(lambda x : preprocess(x,[0,0,0,0,1,0,0,0]))"
      ]
    },
    {
      "cell_type": "markdown",
      "id": "5ae2142e",
      "metadata": {
        "id": "5ae2142e"
      },
      "source": [
        "### Step [3.5.1]: Extract Bag of words features"
      ]
    },
    {
      "cell_type": "code",
      "execution_count": null,
      "id": "2c2ffee5",
      "metadata": {
        "id": "2c2ffee5",
        "outputId": "565e3312-fe03-45b3-f75e-37e3f81b8bf3"
      },
      "outputs": [
        {
          "name": "stdout",
          "output_type": "stream",
          "text": [
            "shape of X_train :  (8117, 43308)\n",
            "shape of X_test :  (2717, 43308)\n",
            "shape of X_valid :  (2688, 43308)\n"
          ]
        }
      ],
      "source": [
        "x_train,y_train,x_test,y_test,x_valid,y_valid = get_values('without_puncs')\n",
        "X_train,X_test,X_valid = apply_bagOfWords(x_train,x_test,x_valid)"
      ]
    },
    {
      "cell_type": "markdown",
      "id": "ad3c5bf0",
      "metadata": {
        "id": "ad3c5bf0"
      },
      "source": [
        "### Step [3.5.2]: Train model"
      ]
    },
    {
      "cell_type": "code",
      "execution_count": null,
      "id": "9b02b101",
      "metadata": {
        "id": "9b02b101",
        "outputId": "32945740-ce44-4ab6-8486-2b3072251de7"
      },
      "outputs": [
        {
          "name": "stdout",
          "output_type": "stream",
          "text": [
            "Model Accuracy After removing punctuations :  0.7740154582259845\n"
          ]
        }
      ],
      "source": [
        "y_predicted , withoutpuncsACC = build_logistic(X_train,y_train,X_test,y_test)\n",
        "\n",
        "print(\"Model Accuracy After removing punctuations : \",withoutpuncsACC)\n"
      ]
    },
    {
      "cell_type": "markdown",
      "id": "4281b756",
      "metadata": {
        "id": "4281b756"
      },
      "source": [
        "### Step [3.5.3]: Evaluation model"
      ]
    },
    {
      "cell_type": "code",
      "execution_count": null,
      "id": "82d891c1",
      "metadata": {
        "id": "82d891c1",
        "outputId": "05584c39-c08f-4191-943b-97246da77f48"
      },
      "outputs": [
        {
          "name": "stdout",
          "output_type": "stream",
          "text": [
            "_____________________________________________________\n",
            "              precision    recall  f1-score   support\n",
            "\n",
            "           0       0.69      0.59      0.64       906\n",
            "           1       0.81      0.86      0.84      1811\n",
            "\n",
            "    accuracy                           0.77      2717\n",
            "   macro avg       0.75      0.73      0.74      2717\n",
            "weighted avg       0.77      0.77      0.77      2717\n",
            "\n",
            "_____________________________________________________\n"
          ]
        }
      ],
      "source": [
        "print_model_report(y_test,y_predicted)"
      ]
    },
    {
      "cell_type": "code",
      "execution_count": null,
      "id": "03c5ac20",
      "metadata": {
        "id": "03c5ac20"
      },
      "outputs": [],
      "source": [
        "model_comparison_table['model_name'].append(\"logistic regression with bag of words\")\n",
        "model_comparison_table['preprocessing_methods'].append(\"removing punctuations\")\n",
        "model_comparison_table['accuracy'].append(withoutpuncsACC)"
      ]
    },
    {
      "cell_type": "markdown",
      "id": "71557167",
      "metadata": {
        "id": "71557167"
      },
      "source": [
        "## Step [3.6]: Build model after removing stop words"
      ]
    },
    {
      "cell_type": "code",
      "execution_count": null,
      "id": "cdb29a57",
      "metadata": {
        "id": "cdb29a57"
      },
      "outputs": [],
      "source": [
        "df_train['without_stop'] = df_train['tweet'].apply(lambda x : preprocess(x,[0,0,0,0,0,1,0,0]))\n",
        "df_test['without_stop'] = df_test['tweet'].apply(lambda x : preprocess(x,[0,0,0,0,0,1,0,0]))\n",
        "df_valid['without_stop'] = df_valid['tweet'].apply(lambda x : preprocess(x,[0,0,0,0,0,1,0,0]))"
      ]
    },
    {
      "cell_type": "markdown",
      "id": "f5027546",
      "metadata": {
        "id": "f5027546"
      },
      "source": [
        "### Step [3.6.1]: Extract Bag of words features"
      ]
    },
    {
      "cell_type": "code",
      "execution_count": null,
      "id": "11e44723",
      "metadata": {
        "id": "11e44723",
        "outputId": "e675f7b3-9af6-4180-ffc6-339c7f3cfaf0"
      },
      "outputs": [
        {
          "name": "stdout",
          "output_type": "stream",
          "text": [
            "shape of X_train :  (8117, 42083)\n",
            "shape of X_test :  (2717, 42083)\n",
            "shape of X_valid :  (2688, 42083)\n"
          ]
        }
      ],
      "source": [
        "x_train,y_train,x_test,y_test,x_valid,y_valid = get_values('without_stop')\n",
        "X_train,X_test,X_valid = apply_bagOfWords(x_train,x_test,x_valid)"
      ]
    },
    {
      "cell_type": "markdown",
      "id": "6ed1491e",
      "metadata": {
        "id": "6ed1491e"
      },
      "source": [
        "### Step [3.6.2]: Train model"
      ]
    },
    {
      "cell_type": "code",
      "execution_count": null,
      "id": "a2212c75",
      "metadata": {
        "id": "a2212c75",
        "outputId": "075f4c31-7686-461a-a8f3-3c93813fce6a"
      },
      "outputs": [
        {
          "name": "stdout",
          "output_type": "stream",
          "text": [
            "Model Accuracy After removing stop words :  0.7747515642252485\n"
          ]
        }
      ],
      "source": [
        "y_predicted , withoutstopsACC = build_logistic(X_train,y_train,X_test,y_test)\n",
        "\n",
        "print(\"Model Accuracy After removing stop words : \",withoutstopsACC)\n"
      ]
    },
    {
      "cell_type": "markdown",
      "id": "524c0fef",
      "metadata": {
        "id": "524c0fef"
      },
      "source": [
        "### Step [3.6.3]: Evaluation model"
      ]
    },
    {
      "cell_type": "code",
      "execution_count": null,
      "id": "09f58579",
      "metadata": {
        "id": "09f58579",
        "outputId": "61429dfe-d8a7-4163-ba6d-8483077ce1b8"
      },
      "outputs": [
        {
          "name": "stdout",
          "output_type": "stream",
          "text": [
            "_____________________________________________________\n",
            "              precision    recall  f1-score   support\n",
            "\n",
            "           0       0.69      0.59      0.63       906\n",
            "           1       0.81      0.87      0.84      1811\n",
            "\n",
            "    accuracy                           0.77      2717\n",
            "   macro avg       0.75      0.73      0.74      2717\n",
            "weighted avg       0.77      0.77      0.77      2717\n",
            "\n",
            "_____________________________________________________\n"
          ]
        }
      ],
      "source": [
        "print_model_report(y_test,y_predicted)"
      ]
    },
    {
      "cell_type": "code",
      "execution_count": null,
      "id": "2cfd71fc",
      "metadata": {
        "id": "2cfd71fc"
      },
      "outputs": [],
      "source": [
        "model_comparison_table['model_name'].append(\"logistic regression with bag of words\")\n",
        "model_comparison_table['preprocessing_methods'].append(\"removing stop words\")\n",
        "model_comparison_table['accuracy'].append(withoutstopsACC)"
      ]
    },
    {
      "cell_type": "markdown",
      "id": "1364d1c4",
      "metadata": {
        "id": "1364d1c4"
      },
      "source": [
        "## Step [3.7]: Build model after normalization"
      ]
    },
    {
      "cell_type": "code",
      "execution_count": null,
      "id": "82c0a3bf",
      "metadata": {
        "id": "82c0a3bf"
      },
      "outputs": [],
      "source": [
        "df_train['norm'] = df_train['tweet'].apply(lambda x : preprocess(x,[0,0,0,0,0,0,1,0]))\n",
        "df_test['norm'] = df_test['tweet'].apply(lambda x : preprocess(x,[0,0,0,0,0,0,1,0]))\n",
        "df_valid['norm'] = df_valid['tweet'].apply(lambda x : preprocess(x,[0,0,0,0,0,0,1,0]))"
      ]
    },
    {
      "cell_type": "markdown",
      "id": "7cabf244",
      "metadata": {
        "id": "7cabf244"
      },
      "source": [
        "### Step [3.7.1]: Extract Bag of words features"
      ]
    },
    {
      "cell_type": "code",
      "execution_count": null,
      "id": "ac8c6f50",
      "metadata": {
        "id": "ac8c6f50",
        "outputId": "6dec25f7-c58c-4753-9be6-7cf9d989c232"
      },
      "outputs": [
        {
          "name": "stdout",
          "output_type": "stream",
          "text": [
            "shape of X_train :  (8117, 39907)\n",
            "shape of X_test :  (2717, 39907)\n",
            "shape of X_valid :  (2688, 39907)\n"
          ]
        }
      ],
      "source": [
        "x_train,y_train,x_test,y_test,x_valid,y_valid = get_values('norm')\n",
        "X_train,X_test,X_valid = apply_bagOfWords(x_train,x_test,x_valid)"
      ]
    },
    {
      "cell_type": "markdown",
      "id": "7c73d88e",
      "metadata": {
        "id": "7c73d88e"
      },
      "source": [
        "### Step [3.7.2]: Train model"
      ]
    },
    {
      "cell_type": "code",
      "execution_count": null,
      "id": "222a9f25",
      "metadata": {
        "id": "222a9f25",
        "outputId": "0f61f292-3c6e-4f76-c81b-bce8895ccdbf"
      },
      "outputs": [
        {
          "name": "stdout",
          "output_type": "stream",
          "text": [
            "Model Accuracy After normalization :  0.771071034228929\n"
          ]
        }
      ],
      "source": [
        "y_predicted , normalizationACC = build_logistic(X_train,y_train,X_test,y_test)\n",
        "\n",
        "print(\"Model Accuracy After normalization : \",normalizationACC)\n"
      ]
    },
    {
      "cell_type": "markdown",
      "id": "433066cd",
      "metadata": {
        "id": "433066cd"
      },
      "source": [
        "### Step [3.7.3]: Evaluation model"
      ]
    },
    {
      "cell_type": "code",
      "execution_count": null,
      "id": "c1ae842a",
      "metadata": {
        "id": "c1ae842a",
        "outputId": "30e12755-5cc5-44a2-d8e1-979506ede896"
      },
      "outputs": [
        {
          "name": "stdout",
          "output_type": "stream",
          "text": [
            "_____________________________________________________\n",
            "              precision    recall  f1-score   support\n",
            "\n",
            "           0       0.68      0.60      0.64       906\n",
            "           1       0.81      0.86      0.83      1811\n",
            "\n",
            "    accuracy                           0.77      2717\n",
            "   macro avg       0.74      0.73      0.73      2717\n",
            "weighted avg       0.77      0.77      0.77      2717\n",
            "\n",
            "_____________________________________________________\n"
          ]
        }
      ],
      "source": [
        "print_model_report(y_test,y_predicted)"
      ]
    },
    {
      "cell_type": "code",
      "execution_count": null,
      "id": "74d826d8",
      "metadata": {
        "id": "74d826d8"
      },
      "outputs": [],
      "source": [
        "model_comparison_table['model_name'].append(\"logistic regression with bag of words\")\n",
        "model_comparison_table['preprocessing_methods'].append(\"normalization\")\n",
        "model_comparison_table['accuracy'].append(normalizationACC)"
      ]
    },
    {
      "cell_type": "markdown",
      "id": "4bbfc6e0",
      "metadata": {
        "id": "4bbfc6e0"
      },
      "source": [
        "## Step [3.8]: Build model after lemmatization"
      ]
    },
    {
      "cell_type": "code",
      "execution_count": null,
      "id": "465bbacb",
      "metadata": {
        "id": "465bbacb"
      },
      "outputs": [],
      "source": [
        "df_train['lemma'] = df_train['tweet'].apply(lambda x : preprocess(x,[0,0,1,0,1,0,0,1]))\n",
        "df_test['lemma'] = df_test['tweet'].apply(lambda x : preprocess(x,[0,0,1,0,1,0,0,1]))\n",
        "df_valid['lemma'] = df_valid['tweet'].apply(lambda x : preprocess(x,[0,0,1,0,1,0,0,1]))"
      ]
    },
    {
      "cell_type": "markdown",
      "id": "e76b3d73",
      "metadata": {
        "id": "e76b3d73"
      },
      "source": [
        "### Step [3.8.1]: Extract Bag of words features"
      ]
    },
    {
      "cell_type": "code",
      "execution_count": null,
      "id": "2faf4da4",
      "metadata": {
        "id": "2faf4da4",
        "outputId": "d384bd1f-8768-4a8a-9214-56f694447e02"
      },
      "outputs": [
        {
          "name": "stdout",
          "output_type": "stream",
          "text": [
            "shape of X_train :  (8117, 15570)\n",
            "shape of X_test :  (2717, 15570)\n",
            "shape of X_valid :  (2688, 15570)\n"
          ]
        }
      ],
      "source": [
        "x_train,y_train,x_test,y_test,x_valid,y_valid = get_values('lemma')\n",
        "X_train,X_test,X_valid = apply_bagOfWords(x_train,x_test,x_valid)"
      ]
    },
    {
      "cell_type": "markdown",
      "id": "71131527",
      "metadata": {
        "id": "71131527"
      },
      "source": [
        "### Step [3.8.2]: Train model"
      ]
    },
    {
      "cell_type": "code",
      "execution_count": null,
      "id": "6c140bf3",
      "metadata": {
        "id": "6c140bf3",
        "outputId": "e8d72fac-04aa-4276-911f-78f05c6abd43"
      },
      "outputs": [
        {
          "name": "stdout",
          "output_type": "stream",
          "text": [
            "Model Accuracy After lemmatization :  0.7835848362164152\n"
          ]
        }
      ],
      "source": [
        "y_predicted , lemmatizationACC = build_logistic(X_train,y_train,X_test,y_test)\n",
        "\n",
        "print(\"Model Accuracy After lemmatization : \",lemmatizationACC)\n"
      ]
    },
    {
      "cell_type": "markdown",
      "id": "6c3fc7a8",
      "metadata": {
        "id": "6c3fc7a8"
      },
      "source": [
        "### Step [3.8.3]: Evaluation model"
      ]
    },
    {
      "cell_type": "code",
      "execution_count": null,
      "id": "c4fee7cd",
      "metadata": {
        "id": "c4fee7cd",
        "outputId": "50708aad-1d8d-4132-8dc9-2997d986d1a6"
      },
      "outputs": [
        {
          "name": "stdout",
          "output_type": "stream",
          "text": [
            "_____________________________________________________\n",
            "              precision    recall  f1-score   support\n",
            "\n",
            "           0       0.70      0.62      0.66       906\n",
            "           1       0.82      0.86      0.84      1811\n",
            "\n",
            "    accuracy                           0.78      2717\n",
            "   macro avg       0.76      0.74      0.75      2717\n",
            "weighted avg       0.78      0.78      0.78      2717\n",
            "\n",
            "_____________________________________________________\n"
          ]
        }
      ],
      "source": [
        "print_model_report(y_test,y_predicted)"
      ]
    },
    {
      "cell_type": "code",
      "execution_count": null,
      "id": "1c14549b",
      "metadata": {
        "id": "1c14549b"
      },
      "outputs": [],
      "source": [
        "model_comparison_table['model_name'].append(\"logistic regression with bag of words\")\n",
        "model_comparison_table['preprocessing_methods'].append(\"lemmatization\")\n",
        "model_comparison_table['accuracy'].append(lemmatizationACC)"
      ]
    },
    {
      "cell_type": "markdown",
      "id": "06bcbdfa",
      "metadata": {
        "id": "06bcbdfa"
      },
      "source": [
        "## Step [3.9]: Build model after removing mentions,urls"
      ]
    },
    {
      "cell_type": "code",
      "execution_count": null,
      "id": "1279500e",
      "metadata": {
        "id": "1279500e"
      },
      "outputs": [],
      "source": [
        "df_train['op12'] = df_train['without_mentions'].apply(lambda x : preprocess(x,[0,1,0,0,0,0,0,0]))\n",
        "df_test['op12'] = df_test['without_mentions'].apply(lambda x : preprocess(x,[0,1,0,0,0,0,0,0]))\n",
        "df_valid['op12'] = df_valid['without_mentions'].apply(lambda x : preprocess(x,[0,1,0,0,0,0,0,0]))"
      ]
    },
    {
      "cell_type": "markdown",
      "id": "fc3267e5",
      "metadata": {
        "id": "fc3267e5"
      },
      "source": [
        "### Step [3.9.1]: Extract Bag of words features"
      ]
    },
    {
      "cell_type": "code",
      "execution_count": null,
      "id": "39c3e893",
      "metadata": {
        "id": "39c3e893",
        "outputId": "0ddea77e-2e62-42d0-a4ba-04d1a3ffbd46"
      },
      "outputs": [
        {
          "name": "stdout",
          "output_type": "stream",
          "text": [
            "shape of X_train :  (8117, 35876)\n",
            "shape of X_test :  (2717, 35876)\n",
            "shape of X_valid :  (2688, 35876)\n"
          ]
        }
      ],
      "source": [
        "x_train,y_train,x_test,y_test,x_valid,y_valid = get_values('op12')\n",
        "X_train,X_test,X_valid = apply_bagOfWords(x_train,x_test,x_valid)"
      ]
    },
    {
      "cell_type": "markdown",
      "id": "6d938b37",
      "metadata": {
        "id": "6d938b37"
      },
      "source": [
        "### Step [3.9.2]: Train model"
      ]
    },
    {
      "cell_type": "code",
      "execution_count": null,
      "id": "832e6192",
      "metadata": {
        "id": "832e6192",
        "outputId": "20677180-67c2-4863-d30c-32047041d23f"
      },
      "outputs": [
        {
          "name": "stdout",
          "output_type": "stream",
          "text": [
            "Model Accuracy After removing mentions and urls :  0.7721751932278248\n"
          ]
        }
      ],
      "source": [
        "y_predicted , op12ACC = build_logistic(X_train,y_train,X_test,y_test)\n",
        "\n",
        "print(\"Model Accuracy After removing mentions and urls : \",op12ACC)\n"
      ]
    },
    {
      "cell_type": "markdown",
      "id": "c434de46",
      "metadata": {
        "id": "c434de46"
      },
      "source": [
        "### Step [3.9.3]: Evaluation model"
      ]
    },
    {
      "cell_type": "code",
      "execution_count": null,
      "id": "64eba253",
      "metadata": {
        "id": "64eba253",
        "outputId": "ba8d9365-079c-4955-9965-025e60831a5f"
      },
      "outputs": [
        {
          "name": "stdout",
          "output_type": "stream",
          "text": [
            "_____________________________________________________\n",
            "              precision    recall  f1-score   support\n",
            "\n",
            "           0       0.68      0.60      0.64       906\n",
            "           1       0.81      0.86      0.83      1811\n",
            "\n",
            "    accuracy                           0.77      2717\n",
            "   macro avg       0.75      0.73      0.73      2717\n",
            "weighted avg       0.77      0.77      0.77      2717\n",
            "\n",
            "_____________________________________________________\n"
          ]
        }
      ],
      "source": [
        "print_model_report(y_test,y_predicted)"
      ]
    },
    {
      "cell_type": "code",
      "execution_count": null,
      "id": "227ddda7",
      "metadata": {
        "id": "227ddda7"
      },
      "outputs": [],
      "source": [
        "model_comparison_table['model_name'].append(\"logistic regression with bag of words\")\n",
        "model_comparison_table['preprocessing_methods'].append(\"removing mentions and urls\")\n",
        "model_comparison_table['accuracy'].append(op12ACC)"
      ]
    },
    {
      "cell_type": "markdown",
      "id": "ab2849df",
      "metadata": {
        "id": "ab2849df"
      },
      "source": [
        "## Step [3.10]: Build model after removing mentions,urls and non-arabic chars"
      ]
    },
    {
      "cell_type": "code",
      "execution_count": null,
      "id": "9a0e2333",
      "metadata": {
        "id": "9a0e2333"
      },
      "outputs": [],
      "source": [
        "df_train['op123'] = df_train['op12'].apply(lambda x : preprocess(x,[0,0,1,0,0,0,0,0]))\n",
        "df_test['op123'] = df_test['op12'].apply(lambda x : preprocess(x,[0,0,1,0,0,0,0,0]))\n",
        "df_valid['op123'] = df_valid['op12'].apply(lambda x : preprocess(x,[0,0,1,0,0,0,0,0]))"
      ]
    },
    {
      "cell_type": "markdown",
      "id": "1b9ad95e",
      "metadata": {
        "id": "1b9ad95e"
      },
      "source": [
        "### Step [3.10.1]: Extract Bag of words features"
      ]
    },
    {
      "cell_type": "code",
      "execution_count": null,
      "id": "0af082af",
      "metadata": {
        "id": "0af082af",
        "outputId": "331fe33b-085f-462f-f8ce-02afc7994131"
      },
      "outputs": [
        {
          "name": "stdout",
          "output_type": "stream",
          "text": [
            "shape of X_train :  (8117, 33773)\n",
            "shape of X_test :  (2717, 33773)\n",
            "shape of X_valid :  (2688, 33773)\n"
          ]
        }
      ],
      "source": [
        "x_train,y_train,x_test,y_test,x_valid,y_valid = get_values('op123')\n",
        "X_train,X_test,X_valid = apply_bagOfWords(x_train,x_test,x_valid)"
      ]
    },
    {
      "cell_type": "markdown",
      "id": "6d88cbdc",
      "metadata": {
        "id": "6d88cbdc"
      },
      "source": [
        "### Step [3.10.2]: Train model"
      ]
    },
    {
      "cell_type": "code",
      "execution_count": null,
      "id": "7e790ebe",
      "metadata": {
        "id": "7e790ebe",
        "outputId": "820cb1f7-18c4-4185-a09d-80285cfb1e77"
      },
      "outputs": [
        {
          "name": "stdout",
          "output_type": "stream",
          "text": [
            "Model Accuracy After removing mentions, urls and non-arabic chars:  0.7743835112256164\n"
          ]
        }
      ],
      "source": [
        "y_predicted , op123ACC = build_logistic(X_train,y_train,X_test,y_test)\n",
        "\n",
        "print(\"Model Accuracy After removing mentions, urls and non-arabic chars: \",op123ACC)\n"
      ]
    },
    {
      "cell_type": "markdown",
      "id": "833f82b7",
      "metadata": {
        "id": "833f82b7"
      },
      "source": [
        "### Step [3.10.3]: Evaluation model"
      ]
    },
    {
      "cell_type": "code",
      "execution_count": null,
      "id": "042d53b7",
      "metadata": {
        "id": "042d53b7",
        "outputId": "4572288c-a24c-4d62-c735-fb14ab3a003e"
      },
      "outputs": [
        {
          "name": "stdout",
          "output_type": "stream",
          "text": [
            "_____________________________________________________\n",
            "              precision    recall  f1-score   support\n",
            "\n",
            "           0       0.69      0.59      0.63       906\n",
            "           1       0.81      0.87      0.84      1811\n",
            "\n",
            "    accuracy                           0.77      2717\n",
            "   macro avg       0.75      0.73      0.74      2717\n",
            "weighted avg       0.77      0.77      0.77      2717\n",
            "\n",
            "_____________________________________________________\n"
          ]
        }
      ],
      "source": [
        "print_model_report(y_test,y_predicted)"
      ]
    },
    {
      "cell_type": "code",
      "execution_count": null,
      "id": "8f19bce5",
      "metadata": {
        "id": "8f19bce5"
      },
      "outputs": [],
      "source": [
        "model_comparison_table['model_name'].append(\"logistic regression with bag of words\")\n",
        "model_comparison_table['preprocessing_methods'].append(\"removing mentions,urls,non-arabic\")\n",
        "model_comparison_table['accuracy'].append(op123ACC)"
      ]
    },
    {
      "cell_type": "markdown",
      "id": "d872fbec",
      "metadata": {
        "id": "d872fbec"
      },
      "source": [
        "## Step [3.11]: Build model after removing mentions,urls , non-arabic and extra characters"
      ]
    },
    {
      "cell_type": "code",
      "execution_count": null,
      "id": "ca56290e",
      "metadata": {
        "id": "ca56290e"
      },
      "outputs": [],
      "source": [
        "df_train['op1234'] = df_train['op123'].apply(lambda x : preprocess(x,[0,0,0,1,0,0,0,0]))\n",
        "df_test['op1234'] = df_test['op123'].apply(lambda x : preprocess(x,[0,0,0,1,0,0,0,0]))\n",
        "df_valid['op1234'] = df_valid['op123'].apply(lambda x : preprocess(x,[0,0,0,1,0,0,0,0]))"
      ]
    },
    {
      "cell_type": "markdown",
      "id": "b76319ce",
      "metadata": {
        "id": "b76319ce"
      },
      "source": [
        "### Step [3.11.1]: Extract Bag of words features"
      ]
    },
    {
      "cell_type": "code",
      "execution_count": null,
      "id": "0e5dd96b",
      "metadata": {
        "id": "0e5dd96b",
        "outputId": "1675b458-b5a7-4d23-de55-097d8bebc25a"
      },
      "outputs": [
        {
          "name": "stdout",
          "output_type": "stream",
          "text": [
            "shape of X_train :  (8117, 32919)\n",
            "shape of X_test :  (2717, 32919)\n",
            "shape of X_valid :  (2688, 32919)\n"
          ]
        }
      ],
      "source": [
        "x_train,y_train,x_test,y_test,x_valid,y_valid = get_values('op1234')\n",
        "X_train,X_test,X_valid = apply_bagOfWords(x_train,x_test,x_valid)"
      ]
    },
    {
      "cell_type": "markdown",
      "id": "7f14cca2",
      "metadata": {
        "id": "7f14cca2"
      },
      "source": [
        "### Step [3.11.2]: Train model"
      ]
    },
    {
      "cell_type": "code",
      "execution_count": null,
      "id": "17313e66",
      "metadata": {
        "id": "17313e66",
        "outputId": "c1f4851e-6ddb-4ba2-d411-23de253cfaca"
      },
      "outputs": [
        {
          "name": "stdout",
          "output_type": "stream",
          "text": [
            "Model Accuracy After removing mentions, urls , non-arabic and extra characters:  0.7747515642252485\n"
          ]
        }
      ],
      "source": [
        "y_predicted , op1234ACC = build_logistic(X_train,y_train,X_test,y_test)\n",
        "\n",
        "print(\"Model Accuracy After removing mentions, urls , non-arabic and extra characters: \",op1234ACC)\n"
      ]
    },
    {
      "cell_type": "markdown",
      "id": "845e84ed",
      "metadata": {
        "id": "845e84ed"
      },
      "source": [
        "### Step [3.11.3]: Evaluation model"
      ]
    },
    {
      "cell_type": "code",
      "execution_count": null,
      "id": "86212955",
      "metadata": {
        "id": "86212955",
        "outputId": "f7cea199-b92e-4b41-ecc7-5e1bb876e2d9"
      },
      "outputs": [
        {
          "name": "stdout",
          "output_type": "stream",
          "text": [
            "_____________________________________________________\n",
            "              precision    recall  f1-score   support\n",
            "\n",
            "           0       0.69      0.59      0.64       906\n",
            "           1       0.81      0.87      0.84      1811\n",
            "\n",
            "    accuracy                           0.77      2717\n",
            "   macro avg       0.75      0.73      0.74      2717\n",
            "weighted avg       0.77      0.77      0.77      2717\n",
            "\n",
            "_____________________________________________________\n"
          ]
        }
      ],
      "source": [
        "print_model_report(y_test,y_predicted)"
      ]
    },
    {
      "cell_type": "code",
      "execution_count": null,
      "id": "16c3df38",
      "metadata": {
        "id": "16c3df38"
      },
      "outputs": [],
      "source": [
        "model_comparison_table['model_name'].append(\"logistic regression with bag of words\")\n",
        "model_comparison_table['preprocessing_methods'].append(\"removing mentions,urls,non-arabic and extra chars\")\n",
        "model_comparison_table['accuracy'].append(op1234ACC)"
      ]
    },
    {
      "cell_type": "markdown",
      "id": "9ff195e1",
      "metadata": {
        "id": "9ff195e1"
      },
      "source": [
        "## Step [3.12]: removing mentions,urls , non-arabic , extra characters and punctuations"
      ]
    },
    {
      "cell_type": "code",
      "execution_count": null,
      "id": "802eae65",
      "metadata": {
        "id": "802eae65"
      },
      "outputs": [],
      "source": [
        "df_train['op12345'] = df_train['op1234'].apply(lambda x : preprocess(x,[0,0,0,0,1,0,0,0]))\n",
        "df_test['op12345'] = df_test['op1234'].apply(lambda x : preprocess(x,[0,0,0,0,1,0,0,0]))\n",
        "df_valid['op12345'] = df_valid['op1234'].apply(lambda x : preprocess(x,[0,0,0,0,1,0,0,0]))"
      ]
    },
    {
      "cell_type": "markdown",
      "id": "267311f6",
      "metadata": {
        "id": "267311f6"
      },
      "source": [
        "### Step [3.12.1]: Extract Bag of words features"
      ]
    },
    {
      "cell_type": "code",
      "execution_count": null,
      "id": "5aa7db0c",
      "metadata": {
        "id": "5aa7db0c",
        "outputId": "14e05b2a-fa2e-4324-980c-50f521d4b91b"
      },
      "outputs": [
        {
          "name": "stdout",
          "output_type": "stream",
          "text": [
            "shape of X_train :  (8117, 32965)\n",
            "shape of X_test :  (2717, 32965)\n",
            "shape of X_valid :  (2688, 32965)\n"
          ]
        }
      ],
      "source": [
        "x_train,y_train,x_test,y_test,x_valid,y_valid = get_values('op12345')\n",
        "X_train,X_test,X_valid = apply_bagOfWords(x_train,x_test,x_valid)"
      ]
    },
    {
      "cell_type": "markdown",
      "id": "a86cd424",
      "metadata": {
        "id": "a86cd424"
      },
      "source": [
        "### Step [3.12.2]: Train model"
      ]
    },
    {
      "cell_type": "code",
      "execution_count": null,
      "id": "51657fb9",
      "metadata": {
        "id": "51657fb9",
        "outputId": "f2c5360c-ff09-4aa4-b40e-7b118ad4a843"
      },
      "outputs": [
        {
          "name": "stdout",
          "output_type": "stream",
          "text": [
            "Model Accuracy After removing mentions, urls , non-arabic , extra characters and punctuations:  0.7754876702245124\n"
          ]
        }
      ],
      "source": [
        "y_predicted , op12345ACC = build_logistic(X_train,y_train,X_test,y_test)\n",
        "\n",
        "print(\"Model Accuracy After removing mentions, urls , non-arabic , extra characters and punctuations: \",op12345ACC)\n"
      ]
    },
    {
      "cell_type": "markdown",
      "id": "97185d9a",
      "metadata": {
        "id": "97185d9a"
      },
      "source": [
        "### Step [3.11.3]: Evaluation model"
      ]
    },
    {
      "cell_type": "code",
      "execution_count": null,
      "id": "49a67c6b",
      "metadata": {
        "id": "49a67c6b",
        "outputId": "2f8a707c-982c-4ddd-e150-1e83871b429c"
      },
      "outputs": [
        {
          "name": "stdout",
          "output_type": "stream",
          "text": [
            "_____________________________________________________\n",
            "              precision    recall  f1-score   support\n",
            "\n",
            "           0       0.69      0.59      0.64       906\n",
            "           1       0.81      0.87      0.84      1811\n",
            "\n",
            "    accuracy                           0.78      2717\n",
            "   macro avg       0.75      0.73      0.74      2717\n",
            "weighted avg       0.77      0.78      0.77      2717\n",
            "\n",
            "_____________________________________________________\n"
          ]
        }
      ],
      "source": [
        "print_model_report(y_test,y_predicted)"
      ]
    },
    {
      "cell_type": "code",
      "execution_count": null,
      "id": "afe14b3a",
      "metadata": {
        "id": "afe14b3a"
      },
      "outputs": [],
      "source": [
        "model_comparison_table['model_name'].append(\"logistic regression with bag of words\")\n",
        "model_comparison_table['preprocessing_methods'].append(\"removing mentions,urls,non-arabic,extra chars and punctuations\")\n",
        "model_comparison_table['accuracy'].append(op12345ACC)"
      ]
    },
    {
      "cell_type": "markdown",
      "id": "8604cd26",
      "metadata": {
        "id": "8604cd26"
      },
      "source": [
        "## Step [3.13]: removing urls, extra characters"
      ]
    },
    {
      "cell_type": "code",
      "execution_count": null,
      "id": "e69f1b7d",
      "metadata": {
        "id": "e69f1b7d"
      },
      "outputs": [],
      "source": [
        "df_train['op24'] = df_train['tweet'].apply(lambda x : preprocess(x,[0,1,0,1,0,0,0,0]))\n",
        "df_test['op24'] = df_test['tweet'].apply(lambda x : preprocess(x,[0,1,0,1,0,0,0,0]))\n",
        "df_valid['op24'] = df_valid['tweet'].apply(lambda x :preprocess(x,[0,1,0,1,0,0,0,0]))"
      ]
    },
    {
      "cell_type": "markdown",
      "id": "165c347c",
      "metadata": {
        "id": "165c347c"
      },
      "source": [
        "### Step [3.13.1]: Extract Bag of words features"
      ]
    },
    {
      "cell_type": "code",
      "execution_count": null,
      "id": "8119bd25",
      "metadata": {
        "id": "8119bd25",
        "outputId": "fa97d412-07f3-496f-94ca-6e35619a913d"
      },
      "outputs": [
        {
          "name": "stdout",
          "output_type": "stream",
          "text": [
            "shape of X_train :  (8117, 37791)\n",
            "shape of X_test :  (2717, 37791)\n",
            "shape of X_valid :  (2688, 37791)\n"
          ]
        }
      ],
      "source": [
        "x_train,y_train,x_test,y_test,x_valid,y_valid = get_values('op24')\n",
        "X_train,X_test,X_valid = apply_bagOfWords(x_train,x_test,x_valid)"
      ]
    },
    {
      "cell_type": "markdown",
      "id": "90129b0e",
      "metadata": {
        "id": "90129b0e"
      },
      "source": [
        "### Step [3.13.2]: Train model"
      ]
    },
    {
      "cell_type": "code",
      "execution_count": null,
      "id": "c3bb059e",
      "metadata": {
        "id": "c3bb059e",
        "outputId": "5d0583c2-ed5f-4582-b409-30f81cd0c16c"
      },
      "outputs": [
        {
          "name": "stdout",
          "output_type": "stream",
          "text": [
            "Model Accuracy After removing urls and extra characters :  0.7788001472211998\n"
          ]
        }
      ],
      "source": [
        "y_predicted , op24ACC = build_logistic(X_train,y_train,X_test,y_test)\n",
        "\n",
        "print(\"Model Accuracy After removing urls and extra characters : \",op24ACC)\n"
      ]
    },
    {
      "cell_type": "markdown",
      "id": "7cd712b2",
      "metadata": {
        "id": "7cd712b2"
      },
      "source": [
        "### Step [3.13.3]: Evaluation model"
      ]
    },
    {
      "cell_type": "code",
      "execution_count": null,
      "id": "9fcee101",
      "metadata": {
        "id": "9fcee101",
        "outputId": "d870493e-5873-4e4c-eb5c-436754d4ab8d"
      },
      "outputs": [
        {
          "name": "stdout",
          "output_type": "stream",
          "text": [
            "_____________________________________________________\n",
            "              precision    recall  f1-score   support\n",
            "\n",
            "           0       0.70      0.60      0.64       906\n",
            "           1       0.81      0.87      0.84      1811\n",
            "\n",
            "    accuracy                           0.78      2717\n",
            "   macro avg       0.75      0.73      0.74      2717\n",
            "weighted avg       0.77      0.78      0.77      2717\n",
            "\n",
            "_____________________________________________________\n"
          ]
        }
      ],
      "source": [
        "print_model_report(y_test,y_predicted)"
      ]
    },
    {
      "cell_type": "code",
      "execution_count": null,
      "id": "6d846da1",
      "metadata": {
        "id": "6d846da1"
      },
      "outputs": [],
      "source": [
        "model_comparison_table['model_name'].append(\"logistic regression with bag of words\")\n",
        "model_comparison_table['preprocessing_methods'].append(\"removing urls and extra characters\")\n",
        "model_comparison_table['accuracy'].append(op24ACC)"
      ]
    },
    {
      "cell_type": "markdown",
      "id": "8ca55f8f",
      "metadata": {
        "id": "8ca55f8f"
      },
      "source": [
        "## Step [3.14]: removing urls, extra characters and lemmatization"
      ]
    },
    {
      "cell_type": "code",
      "execution_count": null,
      "id": "e8993e55",
      "metadata": {
        "id": "e8993e55"
      },
      "outputs": [],
      "source": [
        "df_train['op2348'] = df_train['lemma'].apply(lambda x : preprocess(x,[0,1,0,1,0,0,0,0]))\n",
        "df_test['op2348'] = df_test['lemma'].apply(lambda x : preprocess(x,[0,1,0,1,0,0,0,0]))\n",
        "df_valid['op2348'] = df_valid['lemma'].apply(lambda x :preprocess(x,[0,1,0,1,0,0,0,0]))"
      ]
    },
    {
      "cell_type": "markdown",
      "id": "18a4d0b2",
      "metadata": {
        "id": "18a4d0b2"
      },
      "source": [
        "### Step [3.14.1]: Extract Bag of words features"
      ]
    },
    {
      "cell_type": "code",
      "execution_count": null,
      "id": "a2a1120d",
      "metadata": {
        "id": "a2a1120d",
        "outputId": "0d52cf4a-dc08-4f81-c6fe-8f77f86748f9"
      },
      "outputs": [
        {
          "name": "stdout",
          "output_type": "stream",
          "text": [
            "shape of X_train :  (8117, 15288)\n",
            "shape of X_test :  (2717, 15288)\n",
            "shape of X_valid :  (2688, 15288)\n"
          ]
        }
      ],
      "source": [
        "x_train,y_train,x_test,y_test,x_valid,y_valid = get_values('op2348')\n",
        "X_train,X_test,X_valid = apply_bagOfWords(x_train,x_test,x_valid)"
      ]
    },
    {
      "cell_type": "markdown",
      "id": "9ba95a98",
      "metadata": {
        "id": "9ba95a98"
      },
      "source": [
        "### Step [3.14.2]: Train model"
      ]
    },
    {
      "cell_type": "code",
      "execution_count": null,
      "id": "d9f0781a",
      "metadata": {
        "id": "d9f0781a",
        "outputId": "07248641-91bb-48d5-f67f-dc1d587c1559"
      },
      "outputs": [
        {
          "name": "stdout",
          "output_type": "stream",
          "text": [
            "Model Accuracy After removing urls, extra,non arabic chars and lemmatization:  0.7824806772175193\n"
          ]
        }
      ],
      "source": [
        "y_predicted , op2348ACC = build_logistic(X_train,y_train,X_test,y_test)\n",
        "\n",
        "print(\"Model Accuracy After removing urls, extra,non arabic chars and lemmatization: \",op2348ACC)\n"
      ]
    },
    {
      "cell_type": "markdown",
      "id": "ff50c6a1",
      "metadata": {
        "id": "ff50c6a1"
      },
      "source": [
        "### Step [3.14.3]: Evaluation model"
      ]
    },
    {
      "cell_type": "code",
      "execution_count": null,
      "id": "329691ab",
      "metadata": {
        "id": "329691ab",
        "outputId": "a3fb5539-50de-4b37-d277-680f51f0c5c1"
      },
      "outputs": [
        {
          "name": "stdout",
          "output_type": "stream",
          "text": [
            "_____________________________________________________\n",
            "              precision    recall  f1-score   support\n",
            "\n",
            "           0       0.69      0.62      0.66       906\n",
            "           1       0.82      0.86      0.84      1811\n",
            "\n",
            "    accuracy                           0.78      2717\n",
            "   macro avg       0.76      0.74      0.75      2717\n",
            "weighted avg       0.78      0.78      0.78      2717\n",
            "\n",
            "_____________________________________________________\n"
          ]
        }
      ],
      "source": [
        "print_model_report(y_test,y_predicted)"
      ]
    },
    {
      "cell_type": "code",
      "execution_count": null,
      "id": "e32a89a3",
      "metadata": {
        "id": "e32a89a3"
      },
      "outputs": [],
      "source": [
        "model_comparison_table['model_name'].append(\"logistic regression with bag of words\")\n",
        "model_comparison_table['preprocessing_methods'].append(\"removing urls,extra ,non-arabic and lemmatization\")\n",
        "model_comparison_table['accuracy'].append(op2348ACC)"
      ]
    },
    {
      "cell_type": "markdown",
      "id": "1b94e99c",
      "metadata": {
        "id": "1b94e99c"
      },
      "source": [
        "## Step [3.15]: removing mentions and lemmatization"
      ]
    },
    {
      "cell_type": "code",
      "execution_count": null,
      "id": "c5ae89e1",
      "metadata": {
        "id": "c5ae89e1"
      },
      "outputs": [],
      "source": [
        "df_train['op18'] = df_train['lemma'].apply(lambda x : preprocess(x,[1,0,0,0,0,0,0,0]))\n",
        "df_test['op18'] = df_test['lemma'].apply(lambda x : preprocess(x,[1,0,0,0,0,0,0,0]))\n",
        "df_valid['op18'] = df_valid['lemma'].apply(lambda x :preprocess(x,[1,0,0,0,0,0,0,0]))"
      ]
    },
    {
      "cell_type": "markdown",
      "id": "e0b72261",
      "metadata": {
        "id": "e0b72261"
      },
      "source": [
        "### Step [3.15.1]: Extract Bag of words features"
      ]
    },
    {
      "cell_type": "code",
      "execution_count": null,
      "id": "745b9f81",
      "metadata": {
        "id": "745b9f81",
        "outputId": "573f1204-b0fa-41ad-988f-eb0634c3df91"
      },
      "outputs": [
        {
          "name": "stdout",
          "output_type": "stream",
          "text": [
            "shape of X_train :  (8117, 15570)\n",
            "shape of X_test :  (2717, 15570)\n",
            "shape of X_valid :  (2688, 15570)\n"
          ]
        }
      ],
      "source": [
        "x_train,y_train,x_test,y_test,x_valid,y_valid = get_values('op18')\n",
        "X_train,X_test,X_valid = apply_bagOfWords(x_train,x_test,x_valid)"
      ]
    },
    {
      "cell_type": "markdown",
      "id": "563a1a1a",
      "metadata": {
        "id": "563a1a1a"
      },
      "source": [
        "### Step [3.15.2]: Train model"
      ]
    },
    {
      "cell_type": "code",
      "execution_count": null,
      "id": "21cec780",
      "metadata": {
        "id": "21cec780",
        "outputId": "1c7f81b9-c6e4-4a1d-ecc0-195b44d9db30"
      },
      "outputs": [
        {
          "name": "stdout",
          "output_type": "stream",
          "text": [
            "Model Accuracy After removing mentions and lemmatization:  0.7835848362164152\n"
          ]
        }
      ],
      "source": [
        "y_predicted , op18ACC = build_logistic(X_train,y_train,X_test,y_test)\n",
        "\n",
        "print(\"Model Accuracy After removing mentions and lemmatization: \",op18ACC)\n"
      ]
    },
    {
      "cell_type": "markdown",
      "id": "d577b992",
      "metadata": {
        "id": "d577b992"
      },
      "source": [
        "### Step [3.13.3]: Evaluation model"
      ]
    },
    {
      "cell_type": "code",
      "execution_count": null,
      "id": "4fe4bbc3",
      "metadata": {
        "id": "4fe4bbc3",
        "outputId": "dff9a23c-fb61-4e3a-fbb7-21971059e80b"
      },
      "outputs": [
        {
          "name": "stdout",
          "output_type": "stream",
          "text": [
            "_____________________________________________________\n",
            "              precision    recall  f1-score   support\n",
            "\n",
            "           0       0.70      0.62      0.66       906\n",
            "           1       0.82      0.86      0.84      1811\n",
            "\n",
            "    accuracy                           0.78      2717\n",
            "   macro avg       0.76      0.74      0.75      2717\n",
            "weighted avg       0.78      0.78      0.78      2717\n",
            "\n",
            "_____________________________________________________\n"
          ]
        }
      ],
      "source": [
        "print_model_report(y_test,y_predicted)"
      ]
    },
    {
      "cell_type": "code",
      "execution_count": null,
      "id": "5da79e22",
      "metadata": {
        "id": "5da79e22"
      },
      "outputs": [],
      "source": [
        "model_comparison_table['model_name'].append(\"logistic regression with bag of words\")\n",
        "model_comparison_table['preprocessing_methods'].append(\"removing mentions and lemmatization\")\n",
        "model_comparison_table['accuracy'].append(op18ACC)"
      ]
    },
    {
      "cell_type": "markdown",
      "id": "72871954",
      "metadata": {
        "id": "72871954"
      },
      "source": [
        "## Step [3.16]: removing urls and lemmatization"
      ]
    },
    {
      "cell_type": "code",
      "execution_count": null,
      "id": "318397d0",
      "metadata": {
        "id": "318397d0"
      },
      "outputs": [],
      "source": [
        "df_train['op28'] = df_train['lemma'].apply(lambda x : preprocess(x,[0,1,0,0,0,0,0,0]))\n",
        "df_test['op28'] = df_test['lemma'].apply(lambda x : preprocess(x,[0,1,0,0,0,0,0,0]))\n",
        "df_valid['op28'] = df_valid['lemma'].apply(lambda x :preprocess(x,[0,1,0,0,0,0,0,0]))"
      ]
    },
    {
      "cell_type": "markdown",
      "id": "89315bcf",
      "metadata": {
        "id": "89315bcf"
      },
      "source": [
        "### Step [3.16.1]: Extract Bag of words features"
      ]
    },
    {
      "cell_type": "code",
      "execution_count": null,
      "id": "117b02ae",
      "metadata": {
        "id": "117b02ae",
        "outputId": "19aaa055-4c36-4f89-bc33-d0a005ed107a"
      },
      "outputs": [
        {
          "name": "stdout",
          "output_type": "stream",
          "text": [
            "shape of X_train :  (8117, 15570)\n",
            "shape of X_test :  (2717, 15570)\n",
            "shape of X_valid :  (2688, 15570)\n"
          ]
        }
      ],
      "source": [
        "x_train,y_train,x_test,y_test,x_valid,y_valid = get_values('op28')\n",
        "X_train,X_test,X_valid = apply_bagOfWords(x_train,x_test,x_valid)"
      ]
    },
    {
      "cell_type": "markdown",
      "id": "0c36fbf4",
      "metadata": {
        "id": "0c36fbf4"
      },
      "source": [
        "### Step [3.16.2]: Train model"
      ]
    },
    {
      "cell_type": "code",
      "execution_count": null,
      "id": "4fb88dce",
      "metadata": {
        "id": "4fb88dce",
        "outputId": "ed43fb65-2584-4ceb-ac48-1206fdaf4af5"
      },
      "outputs": [
        {
          "name": "stdout",
          "output_type": "stream",
          "text": [
            "Model Accuracy After removing urls and lemmatization:  0.7835848362164152\n"
          ]
        }
      ],
      "source": [
        "y_predicted , op28ACC = build_logistic(X_train,y_train,X_test,y_test)\n",
        "\n",
        "print(\"Model Accuracy After removing urls and lemmatization: \",op28ACC)\n"
      ]
    },
    {
      "cell_type": "markdown",
      "id": "066c64fc",
      "metadata": {
        "id": "066c64fc"
      },
      "source": [
        "### Step [3.16.3]: Evaluation model"
      ]
    },
    {
      "cell_type": "code",
      "execution_count": null,
      "id": "c4309575",
      "metadata": {
        "id": "c4309575",
        "outputId": "565501da-0e2c-487a-c648-c14047dae623"
      },
      "outputs": [
        {
          "name": "stdout",
          "output_type": "stream",
          "text": [
            "_____________________________________________________\n",
            "              precision    recall  f1-score   support\n",
            "\n",
            "           0       0.70      0.62      0.66       906\n",
            "           1       0.82      0.86      0.84      1811\n",
            "\n",
            "    accuracy                           0.78      2717\n",
            "   macro avg       0.76      0.74      0.75      2717\n",
            "weighted avg       0.78      0.78      0.78      2717\n",
            "\n",
            "_____________________________________________________\n"
          ]
        }
      ],
      "source": [
        "print_model_report(y_test,y_predicted)"
      ]
    },
    {
      "cell_type": "code",
      "execution_count": null,
      "id": "329cd6a0",
      "metadata": {
        "id": "329cd6a0"
      },
      "outputs": [],
      "source": [
        "model_comparison_table['model_name'].append(\"logistic regression with bag of words\")\n",
        "model_comparison_table['preprocessing_methods'].append(\"removing urls and lemmatization\")\n",
        "model_comparison_table['accuracy'].append(op28ACC)"
      ]
    },
    {
      "cell_type": "markdown",
      "id": "72969e9d",
      "metadata": {
        "id": "72969e9d"
      },
      "source": [
        "## Step [3.17]: removing extra chars and lemmatization"
      ]
    },
    {
      "cell_type": "code",
      "execution_count": null,
      "id": "3765bc63",
      "metadata": {
        "id": "3765bc63"
      },
      "outputs": [],
      "source": [
        "df_train['op48'] = df_train['lemma'].apply(lambda x : preprocess(x,[0,0,0,1,0,0,0,0]))\n",
        "df_test['op48'] = df_test['lemma'].apply(lambda x : preprocess(x,[0,0,0,1,0,0,0,0]))\n",
        "df_valid['op48'] = df_valid['lemma'].apply(lambda x :preprocess(x,[0,0,0,1,0,0,0,0]))"
      ]
    },
    {
      "cell_type": "markdown",
      "id": "bc28d416",
      "metadata": {
        "id": "bc28d416"
      },
      "source": [
        "### Step [3.17.1]: Extract Bag of words features"
      ]
    },
    {
      "cell_type": "code",
      "execution_count": null,
      "id": "6bb5e6bf",
      "metadata": {
        "id": "6bb5e6bf",
        "outputId": "d3ed0d05-081e-49f4-dadf-01dac74b41c0"
      },
      "outputs": [
        {
          "name": "stdout",
          "output_type": "stream",
          "text": [
            "shape of X_train :  (8117, 15288)\n",
            "shape of X_test :  (2717, 15288)\n",
            "shape of X_valid :  (2688, 15288)\n"
          ]
        }
      ],
      "source": [
        "x_train,y_train,x_test,y_test,x_valid,y_valid = get_values('op48')\n",
        "X_train,X_test,X_valid = apply_bagOfWords(x_train,x_test,x_valid)"
      ]
    },
    {
      "cell_type": "markdown",
      "id": "fdb614a9",
      "metadata": {
        "id": "fdb614a9"
      },
      "source": [
        "### Step [3.17.2]: Train model"
      ]
    },
    {
      "cell_type": "code",
      "execution_count": null,
      "id": "eacc81ae",
      "metadata": {
        "id": "eacc81ae",
        "outputId": "678d0a4b-eb64-46aa-d3ed-d618f0a3e7d2"
      },
      "outputs": [
        {
          "name": "stdout",
          "output_type": "stream",
          "text": [
            "Model Accuracy After removing extra chars and lemmatization:  0.7824806772175193\n"
          ]
        }
      ],
      "source": [
        "y_predicted , op48ACC = build_logistic(X_train,y_train,X_test,y_test)\n",
        "\n",
        "print(\"Model Accuracy After removing extra chars and lemmatization: \",op48ACC)\n"
      ]
    },
    {
      "cell_type": "markdown",
      "id": "47eef049",
      "metadata": {
        "id": "47eef049"
      },
      "source": [
        "### Step [3.17.3]: Evaluation model"
      ]
    },
    {
      "cell_type": "code",
      "execution_count": null,
      "id": "bfe9057a",
      "metadata": {
        "id": "bfe9057a",
        "outputId": "8137f85c-d4d8-4ce9-9a5a-c8d8d7c7d82d"
      },
      "outputs": [
        {
          "name": "stdout",
          "output_type": "stream",
          "text": [
            "_____________________________________________________\n",
            "              precision    recall  f1-score   support\n",
            "\n",
            "           0       0.69      0.62      0.66       906\n",
            "           1       0.82      0.86      0.84      1811\n",
            "\n",
            "    accuracy                           0.78      2717\n",
            "   macro avg       0.76      0.74      0.75      2717\n",
            "weighted avg       0.78      0.78      0.78      2717\n",
            "\n",
            "_____________________________________________________\n"
          ]
        }
      ],
      "source": [
        "print_model_report(y_test,y_predicted)"
      ]
    },
    {
      "cell_type": "code",
      "execution_count": null,
      "id": "3d45abf1",
      "metadata": {
        "id": "3d45abf1"
      },
      "outputs": [],
      "source": [
        "model_comparison_table['model_name'].append(\"logistic regression with bag of words\")\n",
        "model_comparison_table['preprocessing_methods'].append(\"removing extra chars and lemmatization\")\n",
        "model_comparison_table['accuracy'].append(op48ACC)"
      ]
    },
    {
      "cell_type": "markdown",
      "id": "197e7ef4",
      "metadata": {
        "id": "197e7ef4"
      },
      "source": [
        "## Step [3.18]:  mentions,urls,extra,stop-words,puncs,normalization and lemmatization"
      ]
    },
    {
      "cell_type": "code",
      "execution_count": null,
      "id": "4918647e",
      "metadata": {
        "id": "4918647e"
      },
      "outputs": [],
      "source": [
        "df_train['op12345678'] = df_train['lemma'].apply(lambda x : preprocess(x,[1,1,1,1,1,1,1,0]))\n",
        "df_test['op12345678'] = df_test['lemma'].apply(lambda x : preprocess(x,[1,1,1,1,1,1,1,0]))\n",
        "df_valid['op12345678'] = df_valid['lemma'].apply(lambda x :preprocess(x,[1,1,1,1,1,1,1,0]))"
      ]
    },
    {
      "cell_type": "markdown",
      "id": "0b8909fa",
      "metadata": {
        "id": "0b8909fa"
      },
      "source": [
        "### Step [3.18.1]: Extract Bag of words features"
      ]
    },
    {
      "cell_type": "code",
      "execution_count": null,
      "id": "902a3275",
      "metadata": {
        "id": "902a3275",
        "outputId": "6a96c4d2-c022-4781-c851-c7f357f8f7fa"
      },
      "outputs": [
        {
          "name": "stdout",
          "output_type": "stream",
          "text": [
            "shape of X_train :  (8117, 14245)\n",
            "shape of X_test :  (2717, 14245)\n",
            "shape of X_valid :  (2688, 14245)\n"
          ]
        }
      ],
      "source": [
        "x_train,y_train,x_test,y_test,x_valid,y_valid = get_values('op12345678')\n",
        "X_train,X_test,X_valid = apply_bagOfWords(x_train,x_test,x_valid)"
      ]
    },
    {
      "cell_type": "markdown",
      "id": "b6401423",
      "metadata": {
        "id": "b6401423"
      },
      "source": [
        "### Step [3.18.2]: Train model"
      ]
    },
    {
      "cell_type": "code",
      "execution_count": null,
      "id": "36b02820",
      "metadata": {
        "id": "36b02820",
        "outputId": "c76aa1bd-d7df-451e-8341-5e625f911460"
      },
      "outputs": [
        {
          "name": "stdout",
          "output_type": "stream",
          "text": [
            "Model Accuracy After removing mentions,urls,extra,non-arabic,stopwords, normalization lemmatization:  0.7813765182186235\n"
          ]
        }
      ],
      "source": [
        "y_predicted , op12345678ACC = build_logistic(X_train,y_train,X_test,y_test)\n",
        "\n",
        "print(\"Model Accuracy After removing mentions,urls,extra,non-arabic,stopwords, normalization lemmatization: \",op12345678ACC)\n"
      ]
    },
    {
      "cell_type": "markdown",
      "id": "6de86e0e",
      "metadata": {
        "id": "6de86e0e"
      },
      "source": [
        "### Step [3.18.3]: Evaluation model"
      ]
    },
    {
      "cell_type": "code",
      "execution_count": null,
      "id": "854e5cce",
      "metadata": {
        "id": "854e5cce",
        "outputId": "f5f04bb6-2ca5-46ec-9ca7-3688d3f5c81d"
      },
      "outputs": [
        {
          "name": "stdout",
          "output_type": "stream",
          "text": [
            "_____________________________________________________\n",
            "              precision    recall  f1-score   support\n",
            "\n",
            "           0       0.69      0.62      0.65       906\n",
            "           1       0.82      0.86      0.84      1811\n",
            "\n",
            "    accuracy                           0.78      2717\n",
            "   macro avg       0.76      0.74      0.75      2717\n",
            "weighted avg       0.78      0.78      0.78      2717\n",
            "\n",
            "_____________________________________________________\n"
          ]
        }
      ],
      "source": [
        "print_model_report(y_test,y_predicted)"
      ]
    },
    {
      "cell_type": "code",
      "execution_count": null,
      "id": "729eae5f",
      "metadata": {
        "id": "729eae5f"
      },
      "outputs": [],
      "source": [
        "model_comparison_table['model_name'].append(\"logistic regression with bag of words\")\n",
        "model_comparison_table['preprocessing_methods'].append(\"removing all noise, normalization and lemmatization\")\n",
        "model_comparison_table['accuracy'].append(op12345678ACC)"
      ]
    },
    {
      "cell_type": "markdown",
      "id": "46c3706f",
      "metadata": {
        "id": "46c3706f"
      },
      "source": [
        "# Step [4]: TF-IDF with logistic regression model"
      ]
    },
    {
      "cell_type": "markdown",
      "id": "3672e7b6",
      "metadata": {
        "id": "3672e7b6"
      },
      "source": [
        "## Step [4.1]: Extract TF-IDF  "
      ]
    },
    {
      "cell_type": "code",
      "execution_count": null,
      "id": "46ce3e7d",
      "metadata": {
        "id": "46ce3e7d",
        "outputId": "206c67d0-473d-4bd6-a1a5-ae770a6622ed"
      },
      "outputs": [
        {
          "name": "stdout",
          "output_type": "stream",
          "text": [
            "shape of X_train :  (8117, 10042)\n",
            "shape of X_test :  (2717, 10042)\n",
            "shape of X_valid :  (2688, 10042)\n"
          ]
        }
      ],
      "source": [
        "## بعد تجريب الكثير من ال min-df و max-df تم الحصول على اعلى دقة عند\n",
        "## min-df = 4\n",
        "## max-df = 0.4\n",
        "\n",
        "x_train,y_train,x_test,y_test,x_valid,y_valid = get_values('lemma')\n",
        "X_train,X_test,X_valid = apply_tfidf(x_train,x_test,x_valid,4,0.4)\n"
      ]
    },
    {
      "cell_type": "markdown",
      "id": "3f1fcbb9",
      "metadata": {
        "id": "3f1fcbb9"
      },
      "source": [
        "## Step [4.2]: Train model"
      ]
    },
    {
      "cell_type": "code",
      "execution_count": null,
      "id": "1688918c",
      "metadata": {
        "id": "1688918c",
        "outputId": "3c42efb5-2234-4d54-aa52-988c3a9b54c0"
      },
      "outputs": [
        {
          "name": "stdout",
          "output_type": "stream",
          "text": [
            "Model Accuracy with TF-IDF:  0.7883695252116305\n"
          ]
        }
      ],
      "source": [
        "y_predicted , tfidfACC = build_logistic(X_train,y_train,X_test,y_test)\n",
        "\n",
        "print(\"Model Accuracy with TF-IDF: \",tfidfACC)\n"
      ]
    },
    {
      "cell_type": "code",
      "execution_count": null,
      "id": "f22b8a86",
      "metadata": {
        "id": "f22b8a86"
      },
      "outputs": [],
      "source": [
        "model_comparison_table['model_name'].append(\"logistic regression with td-idf <4,0.4>\")\n",
        "model_comparison_table['preprocessing_methods'].append(\"remove non-arabic characters with lemmatization\")\n",
        "model_comparison_table['accuracy'].append(tfidfACC)"
      ]
    },
    {
      "cell_type": "markdown",
      "id": "61bc7139",
      "metadata": {
        "id": "61bc7139"
      },
      "source": [
        "# Step [5]: TF-IDF with SVM model"
      ]
    },
    {
      "cell_type": "markdown",
      "id": "f80cdf6b",
      "metadata": {
        "id": "f80cdf6b"
      },
      "source": [
        "## Step [5.1]: Extract TF-IDF  "
      ]
    },
    {
      "cell_type": "code",
      "execution_count": null,
      "id": "49757778",
      "metadata": {
        "id": "49757778",
        "outputId": "372fafbb-a343-48d0-c4e1-4a9e436a4386"
      },
      "outputs": [
        {
          "name": "stdout",
          "output_type": "stream",
          "text": [
            "shape of X_train :  (8117, 10042)\n",
            "shape of X_test :  (2717, 10042)\n",
            "shape of X_valid :  (2688, 10042)\n"
          ]
        }
      ],
      "source": [
        "## بعد تجريب الكثير من ال min-df و max-df تم الحصول على اعلى دقة عند\n",
        "## min-df = 4\n",
        "## max-df = 0.4\n",
        "\n",
        "x_train,y_train,x_test,y_test,x_valid,y_valid = get_values('lemma')\n",
        "X_train,X_test,X_valid = apply_tfidf(x_train,x_test,x_valid,4,0.4)\n"
      ]
    },
    {
      "cell_type": "markdown",
      "id": "1d656260",
      "metadata": {
        "id": "1d656260"
      },
      "source": [
        "## Step [5.2]: Train model"
      ]
    },
    {
      "cell_type": "code",
      "execution_count": null,
      "id": "955ec575",
      "metadata": {
        "id": "955ec575",
        "outputId": "548f5d25-0cea-48cd-85db-92637fe19e12"
      },
      "outputs": [
        {
          "name": "stdout",
          "output_type": "stream",
          "text": [
            "SVM Accuracy with TF-IDF:  0.7931542142068457\n"
          ]
        }
      ],
      "source": [
        "y_predicted , svmACC = build_SVM(X_train,y_train,X_test,y_test)\n",
        "\n",
        "print(\"SVM Accuracy with TF-IDF: \",svmACC)\n"
      ]
    },
    {
      "cell_type": "code",
      "execution_count": null,
      "id": "b74f0c5c",
      "metadata": {
        "id": "b74f0c5c"
      },
      "outputs": [],
      "source": [
        "model_comparison_table['model_name'].append(\"SVM classification with td-idf <4,0.4>\")\n",
        "model_comparison_table['preprocessing_methods'].append(\"remove non-arabic characters with lemmatization\")\n",
        "model_comparison_table['accuracy'].append(svmACC)"
      ]
    },
    {
      "cell_type": "markdown",
      "id": "b738dbc3",
      "metadata": {
        "id": "b738dbc3"
      },
      "source": [
        "# Step [6]: TF-IDF(3-Grams) with SVM model"
      ]
    },
    {
      "cell_type": "markdown",
      "id": "6b836760",
      "metadata": {
        "id": "6b836760"
      },
      "source": [
        "## Step [6.1]: Extract TF-IDF  with 3-Grams"
      ]
    },
    {
      "cell_type": "code",
      "execution_count": null,
      "id": "f6db5e5f",
      "metadata": {
        "id": "f6db5e5f",
        "outputId": "4c994058-ca9a-4ff6-b82a-8e7ad9ff20c5"
      },
      "outputs": [
        {
          "name": "stdout",
          "output_type": "stream",
          "text": [
            "shape of X_train :  (8117, 12606)\n",
            "shape of X_test :  (2717, 12606)\n",
            "shape of X_valid :  (2688, 12606)\n"
          ]
        }
      ],
      "source": [
        "## بعد تجريب الكثير من ال min-df و max-df تم الحصول على اعلى دقة عند\n",
        "## min-df = 4\n",
        "## max-df = 0.4\n",
        "\n",
        "x_train,y_train,x_test,y_test,x_valid,y_valid = get_values('lemma')\n",
        "X_train,X_test,X_valid = apply_tfidf_3grams(x_train,x_test,x_valid,4,0.4)\n"
      ]
    },
    {
      "cell_type": "markdown",
      "id": "966e7808",
      "metadata": {
        "id": "966e7808"
      },
      "source": [
        "## Step [6.2]: Train model"
      ]
    },
    {
      "cell_type": "code",
      "execution_count": null,
      "id": "54bc9e11",
      "metadata": {
        "id": "54bc9e11",
        "outputId": "5bafae28-0d73-43cd-f69b-80fa740edfbc"
      },
      "outputs": [
        {
          "name": "stdout",
          "output_type": "stream",
          "text": [
            "SVM Accuracy with TF-IDF:  0.7949944792050055\n"
          ]
        }
      ],
      "source": [
        "y_predicted , svmACC = build_SVM(X_train,y_train,X_test,y_test)\n",
        "\n",
        "print(\"SVM Accuracy with TF-IDF: \",svmACC)\n"
      ]
    },
    {
      "cell_type": "code",
      "execution_count": null,
      "id": "f171938d",
      "metadata": {
        "id": "f171938d"
      },
      "outputs": [],
      "source": [
        "model_comparison_table['model_name'].append(\"SVM classification with td-idf 3-Grams <4,0.4>\")\n",
        "model_comparison_table['preprocessing_methods'].append(\"remove non-arabic characters with lemmatization\")\n",
        "model_comparison_table['accuracy'].append(svmACC)"
      ]
    },
    {
      "cell_type": "code",
      "execution_count": null,
      "id": "e05646bf",
      "metadata": {
        "id": "e05646bf"
      },
      "outputs": [],
      "source": []
    },
    {
      "cell_type": "markdown",
      "id": "861df4e2",
      "metadata": {
        "id": "861df4e2"
      },
      "source": [
        "# Step [7]: Training with deep neural network"
      ]
    },
    {
      "cell_type": "markdown",
      "id": "0c324454",
      "metadata": {
        "id": "0c324454"
      },
      "source": [
        "## Step [7.1]: Architecture 1"
      ]
    },
    {
      "cell_type": "code",
      "execution_count": null,
      "id": "964ef982",
      "metadata": {
        "id": "964ef982",
        "outputId": "6d64efde-166a-4ee0-a442-2ace0d2d43d8"
      },
      "outputs": [
        {
          "name": "stdout",
          "output_type": "stream",
          "text": [
            "shape of X_train :  (8117, 10042)\n",
            "shape of X_test :  (2717, 10042)\n",
            "shape of X_valid :  (2688, 10042)\n",
            "10042\n",
            "Model: \"sequential_8\"\n",
            "_________________________________________________________________\n",
            "Layer (type)                 Output Shape              Param #   \n",
            "=================================================================\n",
            "dense_16 (Dense)             (None, 10)                100430    \n",
            "_________________________________________________________________\n",
            "dense_17 (Dense)             (None, 1)                 11        \n",
            "=================================================================\n",
            "Total params: 100,441\n",
            "Trainable params: 100,441\n",
            "Non-trainable params: 0\n",
            "_________________________________________________________________\n"
          ]
        }
      ],
      "source": [
        "x_train,y_train,x_test,y_test,x_valid,y_valid = get_values('lemma')\n",
        "X_train,X_test,X_valid = apply_tfidf(x_train,x_test,x_valid,4,0.4)\n",
        "X_train = X_train.toarray()\n",
        "X_test = X_test.toarray()\n",
        "X_valid = X_valid.toarray()\n",
        "\n",
        "input_dim = X_train.shape[1]  # Number of features\n",
        "m1 = Sequential()\n",
        "m1.add(layers.Dense(10, input_dim=input_dim, activation='relu'))\n",
        "m1.add(layers.Dense(1, activation='sigmoid'))\n",
        "\n",
        "m1.compile(loss='binary_crossentropy', optimizer='adam', metrics=['accuracy'])\n",
        "m1.summary()\n",
        "\n"
      ]
    },
    {
      "cell_type": "code",
      "execution_count": null,
      "id": "fe333d12",
      "metadata": {
        "id": "fe333d12",
        "outputId": "29fbe990-1868-421e-f767-001e4c4ecb36"
      },
      "outputs": [
        {
          "name": "stdout",
          "output_type": "stream",
          "text": [
            "Training Accuracy: 0.9963\n",
            "Testing Accuracy:  0.7663\n"
          ]
        },
        {
          "data": {
            "image/png": "[encoded data removed]",
            "text/plain": [
              "<Figure size 864x360 with 2 Axes>"
            ]
          },
          "metadata": {},
          "output_type": "display_data"
        }
      ],
      "source": [
        "h1 = m1.fit(X_train, y_train,epochs=20,verbose=False,validation_data=(X_valid, y_valid),batch_size=10)\n",
        "\n",
        "loss, accuracy1 = m1.evaluate(X_train, y_train, verbose=False)\n",
        "print(\"Training Accuracy: {:.4f}\".format(accuracy1))\n",
        "loss, accuracy1 = m1.evaluate(X_test, y_test, verbose=False)\n",
        "print(\"Testing Accuracy:  {:.4f}\".format(accuracy1))\n",
        "\n",
        "plot_history(h1)"
      ]
    },
    {
      "cell_type": "code",
      "execution_count": null,
      "id": "f610917c",
      "metadata": {
        "id": "f610917c"
      },
      "outputs": [],
      "source": [
        "model_comparison_table['model_name'].append(\"1-layer Network with TF_IDF\")\n",
        "model_comparison_table['preprocessing_methods'].append(\"remove non-arabic characters with lemmatization\")\n",
        "model_comparison_table['accuracy'].append(accuracy1)"
      ]
    },
    {
      "cell_type": "markdown",
      "id": "21aa31f5",
      "metadata": {
        "id": "21aa31f5"
      },
      "source": [
        "## Step [7.2]: Architecture 2"
      ]
    },
    {
      "cell_type": "code",
      "execution_count": null,
      "id": "a8c197a1",
      "metadata": {
        "id": "a8c197a1",
        "outputId": "9a809d1a-8aad-41a5-dc5b-4c927301a698"
      },
      "outputs": [
        {
          "name": "stdout",
          "output_type": "stream",
          "text": [
            "shape of X_train :  (8117, 10042)\n",
            "shape of X_test :  (2717, 10042)\n",
            "shape of X_valid :  (2688, 10042)\n",
            "Model: \"sequential_9\"\n",
            "_________________________________________________________________\n",
            "Layer (type)                 Output Shape              Param #   \n",
            "=================================================================\n",
            "dense_18 (Dense)             (None, 10)                100430    \n",
            "_________________________________________________________________\n",
            "dense_19 (Dense)             (None, 8)                 88        \n",
            "_________________________________________________________________\n",
            "dense_20 (Dense)             (None, 4)                 36        \n",
            "_________________________________________________________________\n",
            "dense_21 (Dense)             (None, 1)                 5         \n",
            "=================================================================\n",
            "Total params: 100,559\n",
            "Trainable params: 100,559\n",
            "Non-trainable params: 0\n",
            "_________________________________________________________________\n"
          ]
        }
      ],
      "source": [
        "x_train,y_train,x_test,y_test,x_valid,y_valid = get_values('lemma')\n",
        "X_train,X_test,X_valid = apply_tfidf(x_train,x_test,x_valid,4,0.4)\n",
        "X_train = X_train.toarray()\n",
        "X_test = X_test.toarray()\n",
        "X_valid = X_valid.toarray()\n",
        "\n",
        "input_dim = X_train.shape[1]  # Number of features\n",
        "m2 = Sequential()\n",
        "m2.add(layers.Dense(10, input_dim=input_dim, activation='relu'))\n",
        "m2.add(layers.Dense(8,activation = 'relu'))\n",
        "m2.add(layers.Dense(4,activation = 'relu'))\n",
        "m2.add(layers.Dense(1, activation='sigmoid'))\n",
        "m2.compile(loss='binary_crossentropy', optimizer='adam', metrics=['accuracy'])\n",
        "m2.summary()"
      ]
    },
    {
      "cell_type": "code",
      "execution_count": null,
      "id": "c48f3e22",
      "metadata": {
        "id": "c48f3e22",
        "outputId": "60bcdab9-9c1b-4413-eb65-f61efceb71ff"
      },
      "outputs": [
        {
          "name": "stdout",
          "output_type": "stream",
          "text": [
            "Training Accuracy: 0.9969\n",
            "Testing Accuracy:  0.7670\n"
          ]
        },
        {
          "data": {
            "image/png": "[encoded data removed]",
            "text/plain": [
              "<Figure size 864x360 with 2 Axes>"
            ]
          },
          "metadata": {},
          "output_type": "display_data"
        }
      ],
      "source": [
        "h2 = m2.fit(X_train, y_train,epochs=20,verbose=False,validation_data=(X_valid, y_valid),batch_size=10)\n",
        "loss, accuracy2 = m2.evaluate(X_train, y_train, verbose=False)\n",
        "print(\"Training Accuracy: {:.4f}\".format(accuracy2))\n",
        "loss, accuracy2 = m2.evaluate(X_test, y_test, verbose=False)\n",
        "print(\"Testing Accuracy:  {:.4f}\".format(accuracy2))\n",
        "plot_history(h2)"
      ]
    },
    {
      "cell_type": "code",
      "execution_count": null,
      "id": "ad0a5164",
      "metadata": {
        "id": "ad0a5164"
      },
      "outputs": [],
      "source": [
        "model_comparison_table['model_name'].append(\"3-layers Network with TF_IDF\")\n",
        "model_comparison_table['preprocessing_methods'].append(\"remove non-arabic characters with lemmatization\")\n",
        "model_comparison_table['accuracy'].append(accuracy2)"
      ]
    },
    {
      "cell_type": "code",
      "execution_count": null,
      "id": "42f3bdd2",
      "metadata": {
        "id": "42f3bdd2"
      },
      "outputs": [],
      "source": []
    },
    {
      "cell_type": "markdown",
      "id": "e7104f4e",
      "metadata": {
        "id": "e7104f4e"
      },
      "source": [
        "# Step [8]: Word Embedding With dense layers"
      ]
    },
    {
      "cell_type": "code",
      "execution_count": null,
      "id": "3cee957a",
      "metadata": {
        "id": "3cee957a"
      },
      "outputs": [],
      "source": [
        "from keras.preprocessing.text import Tokenizer\n",
        "x_train,y_train,x_test,y_test,x_valid,y_valid = get_values('lemma')\n",
        "X_train,X_test,X_valid,vocab_size = apply_wordEmbedding(x_train,x_test,x_valid)\n"
      ]
    },
    {
      "cell_type": "code",
      "execution_count": null,
      "id": "046ecb41",
      "metadata": {
        "id": "046ecb41"
      },
      "outputs": [],
      "source": [
        "from keras.preprocessing.sequence import pad_sequences\n",
        "\n",
        "maxlen = 100\n",
        "\n",
        "X_train = pad_sequences(X_train, padding='post', maxlen=maxlen)\n",
        "X_test = pad_sequences(X_test, padding='post', maxlen=maxlen)"
      ]
    },
    {
      "cell_type": "code",
      "execution_count": null,
      "id": "866aa19a",
      "metadata": {
        "id": "866aa19a"
      },
      "outputs": [],
      "source": []
    },
    {
      "cell_type": "code",
      "execution_count": null,
      "id": "0b3170a3",
      "metadata": {
        "id": "0b3170a3",
        "outputId": "15110ff4-b357-4eb3-d560-9b5b9a8bfa0c"
      },
      "outputs": [
        {
          "name": "stdout",
          "output_type": "stream",
          "text": [
            "Model: \"sequential_12\"\n",
            "_________________________________________________________________\n",
            "Layer (type)                 Output Shape              Param #   \n",
            "=================================================================\n",
            "embedding_3 (Embedding)      (None, 100, 50)           780650    \n",
            "_________________________________________________________________\n",
            "flatten_3 (Flatten)          (None, 5000)              0         \n",
            "_________________________________________________________________\n",
            "dense_26 (Dense)             (None, 10)                50010     \n",
            "_________________________________________________________________\n",
            "dense_27 (Dense)             (None, 1)                 11        \n",
            "=================================================================\n",
            "Total params: 830,671\n",
            "Trainable params: 830,671\n",
            "Non-trainable params: 0\n",
            "_________________________________________________________________\n"
          ]
        }
      ],
      "source": [
        "from keras.models import Sequential\n",
        "from keras import layers\n",
        "\n",
        "embedding_dim = 50\n",
        "\n",
        "m3 = Sequential()\n",
        "m3.add(layers.Embedding(input_dim=vocab_size, output_dim=embedding_dim, input_length=maxlen))\n",
        "m3.add(layers.Flatten())\n",
        "m3.add(layers.Dense(10, activation='relu'))\n",
        "m3.add(layers.Dense(1, activation='sigmoid'))\n",
        "m3.compile(optimizer='adam',loss='binary_crossentropy',metrics=['accuracy'])\n",
        "m3.summary()"
      ]
    },
    {
      "cell_type": "code",
      "execution_count": null,
      "id": "3da231bd",
      "metadata": {
        "id": "3da231bd",
        "outputId": "d6da08fe-fcc2-4f63-e664-7d3082b59796"
      },
      "outputs": [
        {
          "name": "stdout",
          "output_type": "stream",
          "text": [
            "Training Accuracy: 0.9969\n",
            "Testing Accuracy:  0.7413\n"
          ]
        },
        {
          "data": {
            "image/png": "[encoded data removed]",
            "text/plain": [
              "<Figure size 864x360 with 2 Axes>"
            ]
          },
          "metadata": {},
          "output_type": "display_data"
        }
      ],
      "source": [
        "h3 = m3.fit(X_train, y_train,epochs=20,verbose=False,validation_data=(X_test, y_test),batch_size=10)\n",
        "loss, accuracy3 = m3.evaluate(X_train, y_train, verbose=False)\n",
        "print(\"Training Accuracy: {:.4f}\".format(accuracy3))\n",
        "loss, accuracy3 = m3.evaluate(X_test, y_test, verbose=False)\n",
        "print(\"Testing Accuracy:  {:.4f}\".format(accuracy3))\n",
        "plot_history(h3)"
      ]
    },
    {
      "cell_type": "code",
      "execution_count": null,
      "id": "7986b5f8",
      "metadata": {
        "id": "7986b5f8"
      },
      "outputs": [],
      "source": [
        "model_comparison_table['model_name'].append(\"1-layer Network with word embedding\")\n",
        "model_comparison_table['preprocessing_methods'].append(\"remove non-arabic characters with lemmatization\")\n",
        "model_comparison_table['accuracy'].append(accuracy3)"
      ]
    },
    {
      "cell_type": "code",
      "execution_count": null,
      "id": "4df03b8f",
      "metadata": {
        "id": "4df03b8f"
      },
      "outputs": [],
      "source": []
    },
    {
      "cell_type": "markdown",
      "id": "30af7f6c",
      "metadata": {
        "id": "30af7f6c"
      },
      "source": [
        "# Step [9]: Word Embedding With MaxPooling layers"
      ]
    },
    {
      "cell_type": "code",
      "execution_count": null,
      "id": "15c770d4",
      "metadata": {
        "id": "15c770d4",
        "outputId": "b087af26-1b10-4c8a-c9d4-dab2c009e913"
      },
      "outputs": [
        {
          "name": "stdout",
          "output_type": "stream",
          "text": [
            "Model: \"sequential_13\"\n",
            "_________________________________________________________________\n",
            "Layer (type)                 Output Shape              Param #   \n",
            "=================================================================\n",
            "embedding_4 (Embedding)      (None, 100, 50)           780650    \n",
            "_________________________________________________________________\n",
            "global_max_pooling1d (Global (None, 50)                0         \n",
            "_________________________________________________________________\n",
            "dense_28 (Dense)             (None, 10)                510       \n",
            "_________________________________________________________________\n",
            "dense_29 (Dense)             (None, 1)                 11        \n",
            "=================================================================\n",
            "Total params: 781,171\n",
            "Trainable params: 781,171\n",
            "Non-trainable params: 0\n",
            "_________________________________________________________________\n"
          ]
        }
      ],
      "source": [
        "from keras.models import Sequential\n",
        "from keras import layers\n",
        "\n",
        "embedding_dim = 50\n",
        "\n",
        "m4 = Sequential()\n",
        "m4.add(layers.Embedding(input_dim=vocab_size, output_dim=embedding_dim, input_length=maxlen))\n",
        "m4.add(layers.GlobalMaxPool1D())\n",
        "m4.add(layers.Dense(10, activation='relu'))\n",
        "m4.add(layers.Dense(1, activation='sigmoid'))\n",
        "m4.compile(optimizer='adam',loss='binary_crossentropy',metrics=['accuracy'])\n",
        "m4.summary()"
      ]
    },
    {
      "cell_type": "code",
      "execution_count": null,
      "id": "c1c5a830",
      "metadata": {
        "id": "c1c5a830",
        "outputId": "16972a08-2182-4174-8d86-0d0294969125"
      },
      "outputs": [
        {
          "name": "stdout",
          "output_type": "stream",
          "text": [
            "Training Accuracy: 0.9970\n",
            "Testing Accuracy:  0.7795\n"
          ]
        },
        {
          "data": {
            "image/png": "[encoded data removed]",
            "text/plain": [
              "<Figure size 864x360 with 2 Axes>"
            ]
          },
          "metadata": {},
          "output_type": "display_data"
        }
      ],
      "source": [
        "h4 = m4.fit(X_train, y_train,epochs=15,verbose=False,validation_data=(X_test, y_test),batch_size=10)\n",
        "loss, accuracy4 = m4.evaluate(X_train, y_train, verbose=False)\n",
        "print(\"Training Accuracy: {:.4f}\".format(accuracy4))\n",
        "loss, accuracy4 = m4.evaluate(X_test, y_test, verbose=False)\n",
        "print(\"Testing Accuracy:  {:.4f}\".format(accuracy4))\n",
        "plot_history(h4)"
      ]
    },
    {
      "cell_type": "code",
      "execution_count": null,
      "id": "0a9130c7",
      "metadata": {
        "id": "0a9130c7"
      },
      "outputs": [],
      "source": [
        "model_comparison_table['model_name'].append(\"MaxPooling layers with word embedding\")\n",
        "model_comparison_table['preprocessing_methods'].append(\"remove non-arabic characters with lemmatization\")\n",
        "model_comparison_table['accuracy'].append(accuracy4)"
      ]
    },
    {
      "cell_type": "markdown",
      "id": "7d2149f1",
      "metadata": {
        "id": "7d2149f1"
      },
      "source": [
        "# Step [9]: Word Embedding With CNN"
      ]
    },
    {
      "cell_type": "code",
      "execution_count": null,
      "id": "96d21f0b",
      "metadata": {
        "id": "96d21f0b",
        "outputId": "11bde6bd-57ac-48b0-e833-ff9b66033584"
      },
      "outputs": [
        {
          "name": "stdout",
          "output_type": "stream",
          "text": [
            "Model: \"sequential_15\"\n",
            "_________________________________________________________________\n",
            "Layer (type)                 Output Shape              Param #   \n",
            "=================================================================\n",
            "embedding_6 (Embedding)      (None, 100, 100)          1561300   \n",
            "_________________________________________________________________\n",
            "conv1d_1 (Conv1D)            (None, 96, 128)           64128     \n",
            "_________________________________________________________________\n",
            "global_max_pooling1d_2 (Glob (None, 128)               0         \n",
            "_________________________________________________________________\n",
            "dense_32 (Dense)             (None, 10)                1290      \n",
            "_________________________________________________________________\n",
            "dense_33 (Dense)             (None, 1)                 11        \n",
            "=================================================================\n",
            "Total params: 1,626,729\n",
            "Trainable params: 1,626,729\n",
            "Non-trainable params: 0\n",
            "_________________________________________________________________\n"
          ]
        }
      ],
      "source": [
        "embedding_dim = 100\n",
        "\n",
        "m5 = Sequential()\n",
        "m5.add(layers.Embedding(vocab_size, embedding_dim, input_length=maxlen))\n",
        "m5.add(layers.Conv1D(128, 5, activation='relu'))\n",
        "m5.add(layers.GlobalMaxPooling1D())\n",
        "m5.add(layers.Dense(10, activation='relu'))\n",
        "m5.add(layers.Dense(1, activation='sigmoid'))\n",
        "m5.compile(optimizer='adam',loss='binary_crossentropy',metrics=['accuracy'])\n",
        "m5.summary()"
      ]
    },
    {
      "cell_type": "code",
      "execution_count": null,
      "id": "834f1e42",
      "metadata": {
        "id": "834f1e42",
        "outputId": "8de9d157-d12a-4b62-e395-c3cb97d55c96"
      },
      "outputs": [
        {
          "name": "stdout",
          "output_type": "stream",
          "text": [
            "Training Accuracy: 0.9978\n",
            "Testing Accuracy:  0.7792\n"
          ]
        },
        {
          "data": {
            "image/png": "[encoded data removed]",
            "text/plain": [
              "<Figure size 864x360 with 2 Axes>"
            ]
          },
          "metadata": {},
          "output_type": "display_data"
        }
      ],
      "source": [
        "h5 = m5.fit(X_train, y_train,epochs=10, verbose=False,validation_data=(X_test, y_test),batch_size=10)\n",
        "loss, accuracy5 = m5.evaluate(X_train, y_train, verbose=False)\n",
        "print(\"Training Accuracy: {:.4f}\".format(accuracy5))\n",
        "loss, accuracy5 = m5.evaluate(X_test, y_test, verbose=False)\n",
        "print(\"Testing Accuracy:  {:.4f}\".format(accuracy5))\n",
        "plot_history(h5)"
      ]
    },
    {
      "cell_type": "code",
      "execution_count": null,
      "id": "1e8f4a5a",
      "metadata": {
        "id": "1e8f4a5a"
      },
      "outputs": [],
      "source": [
        "model_comparison_table['model_name'].append(\"CNN with word embedding\")\n",
        "model_comparison_table['preprocessing_methods'].append(\"remove non-arabic characters with lemmatization\")\n",
        "model_comparison_table['accuracy'].append(accuracy5)"
      ]
    },
    {
      "cell_type": "code",
      "execution_count": null,
      "id": "046c472c",
      "metadata": {
        "id": "046c472c"
      },
      "outputs": [],
      "source": []
    },
    {
      "cell_type": "markdown",
      "id": "4a694f19",
      "metadata": {
        "id": "4a694f19"
      },
      "source": [
        "# Step [10]: Training for all classes"
      ]
    },
    {
      "cell_type": "code",
      "execution_count": null,
      "id": "69a50a31",
      "metadata": {
        "id": "69a50a31"
      },
      "outputs": [],
      "source": [
        "df_train_all = pd.read_csv(r'C:\\Users\\user\\Downloads\\CoronaHW\\Data\\train.csv')\n",
        "df_test_all = pd.read_csv(r'C:\\Users\\user\\Downloads\\CoronaHW\\Data\\test.csv')\n",
        "df_valid_all = pd.read_csv(r'C:\\Users\\user\\Downloads\\CoronaHW\\Data\\valid.csv')\n",
        "\n",
        "\n",
        "df_train_all['lemma'] = df_train_all['tweet'].apply(lambda x : preprocess(str(x),[0,0,1,0,1,0,0,1]))\n",
        "df_test_all['lemma'] = df_test_all['tweet'].apply(lambda x : preprocess(str(x),[0,0,1,0,1,0,0,1]))\n"
      ]
    },
    {
      "cell_type": "code",
      "execution_count": null,
      "id": "86417aa1",
      "metadata": {
        "id": "86417aa1"
      },
      "outputs": [],
      "source": [
        "x_train = df_train_all['lemma'].values\n",
        "y_train = df_train_all['label'].values\n",
        "x_test = df_test_all['lemma'].values\n",
        "y_test = df_test_all['label'].values\n",
        "vectorizer = TfidfVectorizer(min_df=4, max_df=0.4, ngram_range=(1, 2))\n",
        "vectorizer.fit(x_train)\n",
        "X_train = vectorizer.transform(x_train)\n",
        "X_test = vectorizer.transform(x_test)\n",
        "\n"
      ]
    },
    {
      "cell_type": "code",
      "execution_count": null,
      "id": "e6c18e4e",
      "metadata": {
        "id": "e6c18e4e",
        "outputId": "df78f40d-5133-44ec-b7fc-30b5188fca94"
      },
      "outputs": [
        {
          "name": "stdout",
          "output_type": "stream",
          "text": [
            "all accuracy:  0.764092163675\n"
          ]
        }
      ],
      "source": [
        "#y_predicted , allACC = build_SVM(X_train,y_train,X_test,y_test)\n",
        "print(\"all accuracy: \",allACC)"
      ]
    },
    {
      "cell_type": "code",
      "execution_count": null,
      "id": "2da3d52b",
      "metadata": {
        "id": "2da3d52b"
      },
      "outputs": [],
      "source": [
        "model_comparison_table['model_name'].append(\"with all classes\")\n",
        "model_comparison_table['preprocessing_methods'].append(\"remove non-arabic characters with lemmatization\")\n",
        "model_comparison_table['accuracy'].append(allACC)"
      ]
    },
    {
      "cell_type": "markdown",
      "id": "06c831d0",
      "metadata": {
        "id": "06c831d0"
      },
      "source": [
        "## ----------------------------------------------------------------------------------------\n",
        "## أفضل مودل تم الحصول عليه\n",
        "## TF_IDF with Grams(1-3)\n",
        "## Classifier : SVM\n",
        "## preprocessing : removing non-arabic character + lemmatization\n",
        "## accuracy : 0.794\n",
        "## ----------------------------------------------------------------------------------------\n"
      ]
    },
    {
      "cell_type": "code",
      "execution_count": null,
      "id": "1747f25c",
      "metadata": {
        "colab": {
          "base_uri": "https://localhost:8080/",
          "height": 112
        },
        "id": "1747f25c",
        "outputId": "521a0a45-4bcf-48b5-af33-a3640c9b33af"
      },
      "outputs": [
        {
          "data": {
            "text/html": [
              "<div>\n",
              "<style scoped>\n",
              "    .dataframe tbody tr th:only-of-type {\n",
              "        vertical-align: middle;\n",
              "    }\n",
              "\n",
              "    .dataframe tbody tr th {\n",
              "        vertical-align: top;\n",
              "    }\n",
              "\n",
              "    .dataframe thead th {\n",
              "        text-align: right;\n",
              "    }\n",
              "</style>\n",
              "<table border=\"1\" class=\"dataframe\">\n",
              "  <thead>\n",
              "    <tr style=\"text-align: right;\">\n",
              "      <th></th>\n",
              "      <th>model_name</th>\n",
              "      <th>preprocessing_methods</th>\n",
              "      <th>accuracy</th>\n",
              "    </tr>\n",
              "  </thead>\n",
              "  <tbody>\n",
              "    <tr>\n",
              "      <th>0</th>\n",
              "      <td>logistic regression with bag of words</td>\n",
              "      <td>none</td>\n",
              "      <td>0.776592</td>\n",
              "    </tr>\n",
              "    <tr>\n",
              "      <th>1</th>\n",
              "      <td>logistic regression with bag of words</td>\n",
              "      <td>removing mentions</td>\n",
              "      <td>0.770703</td>\n",
              "    </tr>\n",
              "    <tr>\n",
              "      <th>2</th>\n",
              "      <td>logistic regression with bag of words</td>\n",
              "      <td>removing urls</td>\n",
              "      <td>0.776960</td>\n",
              "    </tr>\n",
              "    <tr>\n",
              "      <th>3</th>\n",
              "      <td>logistic regression with bag of words</td>\n",
              "      <td>removing non-arabic characters</td>\n",
              "      <td>0.773279</td>\n",
              "    </tr>\n",
              "    <tr>\n",
              "      <th>4</th>\n",
              "      <td>logistic regression with bag of words</td>\n",
              "      <td>removing extra chars</td>\n",
              "      <td>0.779536</td>\n",
              "    </tr>\n",
              "    <tr>\n",
              "      <th>5</th>\n",
              "      <td>logistic regression with bag of words</td>\n",
              "      <td>removing punctuations</td>\n",
              "      <td>0.774015</td>\n",
              "    </tr>\n",
              "    <tr>\n",
              "      <th>6</th>\n",
              "      <td>logistic regression with bag of words</td>\n",
              "      <td>removing stop words</td>\n",
              "      <td>0.774752</td>\n",
              "    </tr>\n",
              "    <tr>\n",
              "      <th>7</th>\n",
              "      <td>logistic regression with bag of words</td>\n",
              "      <td>normalization</td>\n",
              "      <td>0.771071</td>\n",
              "    </tr>\n",
              "    <tr>\n",
              "      <th>8</th>\n",
              "      <td>logistic regression with bag of words</td>\n",
              "      <td>lemmatization</td>\n",
              "      <td>0.783585</td>\n",
              "    </tr>\n",
              "    <tr>\n",
              "      <th>9</th>\n",
              "      <td>logistic regression with bag of words</td>\n",
              "      <td>removing mentions and urls</td>\n",
              "      <td>0.772175</td>\n",
              "    </tr>\n",
              "    <tr>\n",
              "      <th>10</th>\n",
              "      <td>logistic regression with bag of words</td>\n",
              "      <td>removing mentions,urls,non-arabic</td>\n",
              "      <td>0.774384</td>\n",
              "    </tr>\n",
              "    <tr>\n",
              "      <th>11</th>\n",
              "      <td>logistic regression with bag of words</td>\n",
              "      <td>removing mentions,urls,non-arabic and extra chars</td>\n",
              "      <td>0.774752</td>\n",
              "    </tr>\n",
              "    <tr>\n",
              "      <th>12</th>\n",
              "      <td>logistic regression with bag of words</td>\n",
              "      <td>removing mentions,urls,non-arabic,extra chars ...</td>\n",
              "      <td>0.775488</td>\n",
              "    </tr>\n",
              "    <tr>\n",
              "      <th>13</th>\n",
              "      <td>logistic regression with bag of words</td>\n",
              "      <td>removing urls and extra characters</td>\n",
              "      <td>0.778800</td>\n",
              "    </tr>\n",
              "    <tr>\n",
              "      <th>14</th>\n",
              "      <td>logistic regression with bag of words</td>\n",
              "      <td>removing urls,extra ,non-arabic and lemmatization</td>\n",
              "      <td>0.782481</td>\n",
              "    </tr>\n",
              "    <tr>\n",
              "      <th>15</th>\n",
              "      <td>logistic regression with bag of words</td>\n",
              "      <td>removing mentions and lemmatization</td>\n",
              "      <td>0.783585</td>\n",
              "    </tr>\n",
              "    <tr>\n",
              "      <th>16</th>\n",
              "      <td>logistic regression with bag of words</td>\n",
              "      <td>removing urls and lemmatization</td>\n",
              "      <td>0.783585</td>\n",
              "    </tr>\n",
              "    <tr>\n",
              "      <th>17</th>\n",
              "      <td>logistic regression with bag of words</td>\n",
              "      <td>removing extra chars and lemmatization</td>\n",
              "      <td>0.782481</td>\n",
              "    </tr>\n",
              "    <tr>\n",
              "      <th>18</th>\n",
              "      <td>logistic regression with bag of words</td>\n",
              "      <td>removing all noise, normalization and lemmatiz...</td>\n",
              "      <td>0.781377</td>\n",
              "    </tr>\n",
              "    <tr>\n",
              "      <th>19</th>\n",
              "      <td>logistic regression with td-idf &lt;4,0.4&gt;</td>\n",
              "      <td>remove non-arabic characters with lemmatization</td>\n",
              "      <td>0.788370</td>\n",
              "    </tr>\n",
              "    <tr>\n",
              "      <th>20</th>\n",
              "      <td>SVM classification with td-idf &lt;4,0.4&gt;</td>\n",
              "      <td>remove non-arabic characters with lemmatization</td>\n",
              "      <td>0.793154</td>\n",
              "    </tr>\n",
              "    <tr>\n",
              "      <th>21</th>\n",
              "      <td>SVM classification with td-idf 3-Grams &lt;4,0.4&gt;</td>\n",
              "      <td>remove non-arabic characters with lemmatization</td>\n",
              "      <td>0.794994</td>\n",
              "    </tr>\n",
              "    <tr>\n",
              "      <th>22</th>\n",
              "      <td>1-layer Network with TF_IDF</td>\n",
              "      <td>remove non-arabic characters with lemmatization</td>\n",
              "      <td>0.766286</td>\n",
              "    </tr>\n",
              "    <tr>\n",
              "      <th>23</th>\n",
              "      <td>3-layers Network with TF_IDF</td>\n",
              "      <td>remove non-arabic characters with lemmatization</td>\n",
              "      <td>0.767022</td>\n",
              "    </tr>\n",
              "    <tr>\n",
              "      <th>24</th>\n",
              "      <td>1-layer Network with word embedding</td>\n",
              "      <td>remove non-arabic characters with lemmatization</td>\n",
              "      <td>0.741259</td>\n",
              "    </tr>\n",
              "    <tr>\n",
              "      <th>25</th>\n",
              "      <td>MaxPooling layers with word embedding</td>\n",
              "      <td>remove non-arabic characters with lemmatization</td>\n",
              "      <td>0.779536</td>\n",
              "    </tr>\n",
              "    <tr>\n",
              "      <th>26</th>\n",
              "      <td>CNN with word embedding</td>\n",
              "      <td>remove non-arabic characters with lemmatization</td>\n",
              "      <td>0.779168</td>\n",
              "    </tr>\n",
              "    <tr>\n",
              "      <th>27</th>\n",
              "      <td>with all classes</td>\n",
              "      <td>remove non-arabic characters with lemmatization</td>\n",
              "      <td>0.764092</td>\n",
              "    </tr>\n",
              "  </tbody>\n",
              "</table>\n",
              "</div>"
            ],
            "text/plain": [
              "                                        model_name  \\\n",
              "0            logistic regression with bag of words   \n",
              "1            logistic regression with bag of words   \n",
              "2            logistic regression with bag of words   \n",
              "3            logistic regression with bag of words   \n",
              "4            logistic regression with bag of words   \n",
              "5            logistic regression with bag of words   \n",
              "6            logistic regression with bag of words   \n",
              "7            logistic regression with bag of words   \n",
              "8            logistic regression with bag of words   \n",
              "9            logistic regression with bag of words   \n",
              "10           logistic regression with bag of words   \n",
              "11           logistic regression with bag of words   \n",
              "12           logistic regression with bag of words   \n",
              "13           logistic regression with bag of words   \n",
              "14           logistic regression with bag of words   \n",
              "15           logistic regression with bag of words   \n",
              "16           logistic regression with bag of words   \n",
              "17           logistic regression with bag of words   \n",
              "18           logistic regression with bag of words   \n",
              "19         logistic regression with td-idf <4,0.4>   \n",
              "20          SVM classification with td-idf <4,0.4>   \n",
              "21  SVM classification with td-idf 3-Grams <4,0.4>   \n",
              "22                     1-layer Network with TF_IDF   \n",
              "23                    3-layers Network with TF_IDF   \n",
              "24             1-layer Network with word embedding   \n",
              "25           MaxPooling layers with word embedding   \n",
              "26                         CNN with word embedding   \n",
              "27                                with all classes   \n",
              "\n",
              "                                preprocessing_methods  accuracy  \n",
              "0                                                none  0.776592  \n",
              "1                                   removing mentions  0.770703  \n",
              "2                                       removing urls  0.776960  \n",
              "3                      removing non-arabic characters  0.773279  \n",
              "4                                removing extra chars  0.779536  \n",
              "5                               removing punctuations  0.774015  \n",
              "6                                 removing stop words  0.774752  \n",
              "7                                       normalization  0.771071  \n",
              "8                                       lemmatization  0.783585  \n",
              "9                          removing mentions and urls  0.772175  \n",
              "10                  removing mentions,urls,non-arabic  0.774384  \n",
              "11  removing mentions,urls,non-arabic and extra chars  0.774752  \n",
              "12  removing mentions,urls,non-arabic,extra chars ...  0.775488  \n",
              "13                 removing urls and extra characters  0.778800  \n",
              "14  removing urls,extra ,non-arabic and lemmatization  0.782481  \n",
              "15                removing mentions and lemmatization  0.783585  \n",
              "16                    removing urls and lemmatization  0.783585  \n",
              "17             removing extra chars and lemmatization  0.782481  \n",
              "18  removing all noise, normalization and lemmatiz...  0.781377  \n",
              "19    remove non-arabic characters with lemmatization  0.788370  \n",
              "20    remove non-arabic characters with lemmatization  0.793154  \n",
              "21    remove non-arabic characters with lemmatization  0.794994  \n",
              "22    remove non-arabic characters with lemmatization  0.766286  \n",
              "23    remove non-arabic characters with lemmatization  0.767022  \n",
              "24    remove non-arabic characters with lemmatization  0.741259  \n",
              "25    remove non-arabic characters with lemmatization  0.779536  \n",
              "26    remove non-arabic characters with lemmatization  0.779168  \n",
              "27    remove non-arabic characters with lemmatization  0.764092  "
            ]
          },
          "execution_count": 244,
          "metadata": {},
          "output_type": "execute_result"
        }
      ],
      "source": [
        "import pandas as pd\n",
        "\n",
        "df = pd.DataFrame(model_comparison_table)\n",
        "df"
      ]
    },
    {
      "cell_type": "code",
      "execution_count": null,
      "id": "382f9a49",
      "metadata": {
        "id": "382f9a49"
      },
      "outputs": [],
      "source": [
        "df.to_csv(\"كريستين.csv\", index=False)\n",
        "df_train.to_csv(\"finaltrain.csv\",index=False)\n",
        "df_test.to_csv(\"finaltest.csv\",index = False)\n",
        "df_valid.to_csv(\"finalvalid.csv\",index = False)"
      ]
    },
    {
      "cell_type": "code",
      "execution_count": null,
      "id": "whxlh6L527Zz",
      "metadata": {
        "id": "whxlh6L527Zz"
      },
      "outputs": [],
      "source": []
    },
    {
      "cell_type": "code",
      "execution_count": null,
      "id": "FHYW9tFm3FnM",
      "metadata": {
        "id": "FHYW9tFm3FnM"
      },
      "outputs": [],
      "source": []
    },
    {
      "cell_type": "code",
      "execution_count": null,
      "id": "3073e8d0",
      "metadata": {
        "id": "3073e8d0"
      },
      "outputs": [],
      "source": []
    },
    {
      "cell_type": "code",
      "execution_count": null,
      "id": "2995f69c",
      "metadata": {
        "id": "2995f69c"
      },
      "outputs": [],
      "source": []
    },
    {
      "cell_type": "code",
      "execution_count": null,
      "id": "562cfe81",
      "metadata": {
        "id": "562cfe81"
      },
      "outputs": [],
      "source": []
    },
    {
      "cell_type": "code",
      "execution_count": null,
      "id": "905a4e33",
      "metadata": {
        "id": "905a4e33"
      },
      "outputs": [],
      "source": []
    }
  ],
  "metadata": {
    "colab": {
      "provenance": [],
      "include_colab_link": true
    },
    "kernelspec": {
      "display_name": "Python 3 (ipykernel)",
      "language": "python",
      "name": "python3"
    },
    "language_info": {
      "codemirror_mode": {
        "name": "ipython",
        "version": 3
      },
      "file_extension": ".py",
      "mimetype": "text/x-python",
      "name": "python",
      "nbconvert_exporter": "python",
      "pygments_lexer": "ipython3",
      "version": "3.7.11"
    }
  },
  "nbformat": 4,
  "nbformat_minor": 5
}